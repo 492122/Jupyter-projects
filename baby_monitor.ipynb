{
 "cells": [
  {
   "cell_type": "markdown",
   "metadata": {},
   "source": [
    "# План работы:\n",
    "\n",
    "**[1. Выгрузка и загрузка данных и их визуальный просмотр](#stage_1)**\n",
    "\n",
    "\n",
    "    1. Сбор информации для формирования списка устройств и веделения технических характеристик для дальнейшего анализа.\n",
    "    2. Написание кода sql для создания собственного датасета и определение типов данных для каждой технической характеристики.\n",
    "    3. Распределение технических характеристик на категориальные и количественные.\n",
    "    \n",
    "\n",
    "**[2. Предобработка данных](#stage_2)**\n",
    "\n",
    "    1. Найти пропуски данных и выявить причины возникновения.\n",
    "    2. Заменить пропуски в данных, которые препятствуют дальнейшему анализу.\n",
    "    \n",
    "**[3. Исследовательский анализ данных](#stage_3)**\n",
    "\n",
    "    1. Построение графиков по разным техническим параметрам для визуализации данных.\n",
    "    2. Анализ негативных отзывов пользователей, по устройствам с общим рейтингом ниже 4.5 с помощью лемматизации. Формулирование основных проблем использования устройств 'видеоняня' у потребителей.\n",
    "    \n",
    "**[4. Специальное задание (Выбрать для заказчика устройство с главным критерием 'миниатюрность')](#stage_4)**\n",
    "\n",
    "    1. Определить 'миниатюрное' устройство с подключением к телефону по техническим характеристикам: child_size_width/child_size_length.\n",
    "        Так как у пользователя есть функция подключения к телефону, то целесообразно будет искать лучшее устройство только по размерам камер. \n",
    "    2. Определить 'миниатюрное' устройство без подключения к телефону по техническим характеристикам: parent_size_width/parent_size_length.\n",
    "        Так как у пользователя отсутствует функция подключения к телефону, то целесообразно будет искать лучшее устройство только по размеру родительского дисплея.\n",
    "    3. Сделаем такой же анализ по камерам.\n",
    "        \n",
    "**[5. Проверка гипотез](#stage_5)**\n",
    "\n",
    "    1. гипотеза:\n",
    "    средняя цена за устройство без подключения к телефону не отличается от устройства с подключением к телефону\n",
    "    2. гипотеза: \n",
    "    средний размер видеонянь с подключением к телефону не отличается от видеокамер.\n",
    "\n",
    "**[6. Общий вывод](#stage_6)**\n",
    "\n",
    "\n",
    "\n",
    "#####  <a name=\"contents\">оглавление</a>"
   ]
  },
  {
   "cell_type": "markdown",
   "metadata": {},
   "source": [
    "# Цели и задачи проекта\n",
    "### 1.Исследовать рынок устройств с функционалом 'видеоняня':\n",
    "\n",
    "* Сформировать список устройств на рынке\n",
    "* Выделить технические характеристики\n",
    "* Сформулировать основные проблемы использования устройств 'видеоняня' у потребителей\n",
    "\n",
    "### 2.Выбрать для заказчика устройство с главным критерием 'миниатюрность'\n",
    "1. Миниатюрность по камерам, то есть child_size_width/child_size_length\n",
    "2. Миниатюрность по дисплеям, если они есть, то есть parent_size_width/parent_size_length\n",
    "3. Миниатюрность по видеокамерам"
   ]
  },
  {
   "cell_type": "markdown",
   "metadata": {},
   "source": [
    "<a name=\"stage_1\"></a>\n",
    "# Описание данных\n",
    " [обратно в оглавление](#contents)\n",
    "* name - название\n",
    "* price - цена\n",
    "* user_rating - оценка\n",
    "* region - страна производства\n",
    "* range_inside - Радиус действия внутри помещений\n",
    "* range_outside - Радиус действия на открытом пространстве\n",
    "* phone_connection - Тип подключения (0 - смартфон или 1)\n",
    "* resolution - разрешение\n",
    "* count_connection_type - Количество каналов связи\n",
    "* connection_type - Тип связи\n",
    "* display - Диагональ монитора (в дюймах)\n",
    "* battery_life - Время автономной работы ( в часах)\n",
    "* child_size_width - Ширина детского блока\n",
    "* child_size_length\t- Высота детского блока\n",
    "* parent_size_width - Ширина родительского блока\n",
    "* parent_size_length - Высота родительского блока\n",
    "* weight - Вес (гр)"
   ]
  },
  {
   "cell_type": "code",
   "execution_count": 1,
   "metadata": {},
   "outputs": [],
   "source": [
    "import pandas as pd\n",
    "import numpy as np\n",
    "import seaborn as sns\n",
    "from scipy import stats as st\n",
    "import math\n",
    "import matplotlib.pyplot as plt\n",
    "import warnings\n",
    "warnings.simplefilter('ignore')"
   ]
  },
  {
   "cell_type": "code",
   "execution_count": 2,
   "metadata": {},
   "outputs": [],
   "source": [
    "data = pd.read_csv('baby_monitors.csv')\n",
    "data.head(40)\n",
    "data.query('index == 3')\n",
    "data = data.drop(data.index[3])\n",
    "#df = df.drop(df.index[n])\n",
    "data.query('index == 25')\n",
    "data['parent_size_width'].index[25]\n",
    "data.query('index == 25')\n",
    "data.loc[(data.parent_size_width ==36.0), 'parent_size_width'] = 100\n",
    "data.loc[(data.parent_size_length ==40.0), 'parent_size_length'] = 160\n",
    "data.loc[(data.child_size_length ==69.0), 'child_size_length'] = 80\n",
    "data.loc[(data.child_size_width ==50.0), 'child_size_width'] = 80\n",
    "#df.loc[(df.a < 0), 'a'] = 0\n",
    "#data\n",
    "#data[['name','price', 'phone_connection']]\n"
   ]
  },
  {
   "cell_type": "code",
   "execution_count": 3,
   "metadata": {},
   "outputs": [
    {
     "name": "stdout",
     "output_type": "stream",
     "text": [
      "<class 'pandas.core.frame.DataFrame'>\n",
      "Int64Index: 38 entries, 0 to 38\n",
      "Data columns (total 17 columns):\n",
      " #   Column                 Non-Null Count  Dtype  \n",
      "---  ------                 --------------  -----  \n",
      " 0   name                   38 non-null     object \n",
      " 1   price                  38 non-null     int64  \n",
      " 2   user_rating            38 non-null     float64\n",
      " 3   region                 38 non-null     object \n",
      " 4   range_inside           31 non-null     float64\n",
      " 5   range_outside          35 non-null     float64\n",
      " 6   phone_connection       38 non-null     int64  \n",
      " 7   resolution             31 non-null     object \n",
      " 8   count_connection_type  27 non-null     float64\n",
      " 9   connection_type        37 non-null     object \n",
      " 10  display                30 non-null     float64\n",
      " 11  battery_life           25 non-null     float64\n",
      " 12  child_size_width       35 non-null     float64\n",
      " 13  child_size_length      35 non-null     float64\n",
      " 14  parent_size_width      26 non-null     float64\n",
      " 15  parent_size_length     26 non-null     float64\n",
      " 16  weight                 36 non-null     float64\n",
      "dtypes: float64(11), int64(2), object(4)\n",
      "memory usage: 5.3+ KB\n"
     ]
    }
   ],
   "source": [
    "data.info()"
   ]
  },
  {
   "cell_type": "markdown",
   "metadata": {},
   "source": [
    "<font size=\"4\">Наши данные состоят из *39 строк(моделей видеонянь) и 17 столбцов(технических характеристик)*</font>"
   ]
  },
  {
   "cell_type": "code",
   "execution_count": 4,
   "metadata": {},
   "outputs": [
    {
     "data": {
      "text/plain": [
       "<AxesSubplot:>"
      ]
     },
     "execution_count": 4,
     "metadata": {},
     "output_type": "execute_result"
    },
    {
     "data": {
      "image/png": "[encoded data removed]",
      "text/plain": [
       "<Figure size 432x288 with 1 Axes>"
      ]
     },
     "metadata": {
      "needs_background": "light"
     },
     "output_type": "display_data"
    }
   ],
   "source": [
    "data['price'].hist(bins = 15)"
   ]
  },
  {
   "cell_type": "markdown",
   "metadata": {},
   "source": [
    "<font size=\"4\">Дело в том что, распределение больших данных работает по закону нормального распределения. В нашем случае мы имеем очень мало данных, но анализируем их методами для анализа больших данных. В таком случае, чтобы наш анализ имел смысл, мы должны собрать такую выборку данных, которая будет похожа на *нормальное распределение*. Таким образом, мы делаем нашу выборку *репрезентативной* и уже её можно анализировать методами анализа больших данных. Для этого мы выбирали *видеоняни в диапазоне от 8000 до 15000*, а также выбрали пару очень дешевых и дорогих видеонянь, чтобы в нашей выборке были выбросы как в настоящих данных</font>"
   ]
  },
  {
   "cell_type": "markdown",
   "metadata": {},
   "source": [
    "# Предобработка данных<a name=\"stage_2\"></a>\n",
    " [обратно в оглавление](#contents)"
   ]
  },
  {
   "cell_type": "code",
   "execution_count": 5,
   "metadata": {},
   "outputs": [
    {
     "data": {
      "text/plain": [
       "name                      0\n",
       "price                     0\n",
       "user_rating               0\n",
       "region                    0\n",
       "phone_connection          0\n",
       "connection_type           1\n",
       "weight                    2\n",
       "child_size_width          3\n",
       "child_size_length         3\n",
       "range_outside             3\n",
       "resolution                7\n",
       "range_inside              7\n",
       "display                   8\n",
       "count_connection_type    11\n",
       "parent_size_length       12\n",
       "parent_size_width        12\n",
       "battery_life             13\n",
       "dtype: int64"
      ]
     },
     "execution_count": 5,
     "metadata": {},
     "output_type": "execute_result"
    }
   ],
   "source": [
    "data.isnull().sum(axis=0).sort_values()"
   ]
  },
  {
   "cell_type": "code",
   "execution_count": 6,
   "metadata": {},
   "outputs": [
    {
     "data": {
      "text/plain": [
       "38"
      ]
     },
     "execution_count": 6,
     "metadata": {},
     "output_type": "execute_result"
    }
   ],
   "source": [
    "data.shape[0]"
   ]
  },
  {
   "cell_type": "code",
   "execution_count": 7,
   "metadata": {},
   "outputs": [],
   "source": [
    "connection_type = ((data['connection_type'].isnull().sum() / data.shape[0])).round(2)\n",
    "#print('{:.0%}'.format(connection_type))\n",
    "\n",
    "weight = ((data['weight'].isnull().sum() / data.shape[0])).round(2)\n",
    "#print('{:.0%}'.format(weight))\n",
    "\n",
    "range_outside = ((data['range_outside'].isnull().sum() / data.shape[0])).round(2)\n",
    "#print('{:.0%}'.format(range_outside))\n",
    "\n",
    "range_inside = ((data['range_inside'].isnull().sum() / data.shape[0])).round(2)\n",
    "#print('{:.0%}'.format(range_inside))\n",
    "\n",
    "child_size_width = ((data['child_size_width'].isnull().sum() / data.shape[0])).round(2)\n",
    "#print('{:.0%}'.format(child_size_width))\n",
    "\n",
    "child_size_length = ((data['child_size_length'].isnull().sum() / data.shape[0])).round(2)\n",
    "#print('{:.0%}'.format(child_size_length))\n",
    "\n",
    "display = ((data['display'].isnull().sum() / data.shape[0])).round(2)\n",
    "#print('{:.0%}'.format(display))\n",
    "\n",
    "parent_size_length = ((data['parent_size_length'].isnull().sum() / data.shape[0])).round(2)\n",
    "#print('{:.0%}'.format(parent_size_length))\n",
    "\n",
    "count_connection_type = ((data['count_connection_type'].isnull().sum() / data.shape[0])).round(2)\n",
    "#print('{:.0%}'.format(count_connection_type))\n",
    "\n",
    "parent_size_width = ((data['parent_size_width'].isnull().sum() / data.shape[0])).round(2)\n",
    "#print('{:.0%}'.format(parent_size_width))\n",
    "\n",
    "battery_life = ((data['battery_life'].isnull().sum() / data.shape[0])).round(2)\n",
    "#print('{:.0%}'.format(battery_life))"
   ]
  },
  {
   "cell_type": "code",
   "execution_count": 8,
   "metadata": {},
   "outputs": [],
   "source": [
    "data_insull= {'connection_type': [connection_type], 'weight': [weight], 'range_outside':[range_outside], 'range_inside':[range_inside], 'child_size_width':[child_size_width], 'child_size_length':[child_size_length], 'display':[display], 'parent_size_length':[parent_size_length], 'count_connection_type':[count_connection_type], 'parent_size_width':[parent_size_width], 'battery_life':[battery_life]}\n",
    "df = pd.DataFrame(data_insull)\n",
    "#df['connection_type'] = df['connection_type'].astype(%)\n",
    "df.index = ['NaN/cells_%']\n",
    "\n",
    "\n",
    "df\n",
    "x = df.T\n",
    "x = x.assign(last=pd.to_numeric(x.last, errors='coerce'))\n",
    "NaN_gap = x.drop(['last'], axis = 1)\n",
    "NaN_gap['NaN/cells_%'] = NaN_gap['NaN/cells_%'].astype(object)\n",
    "#x.rename(columns = {'weigth':'1'}, inplace = True)\n",
    "NaN_gap['NaN/cells_%']=NaN_gap['NaN/cells_%']*100\n"
   ]
  },
  {
   "cell_type": "code",
   "execution_count": 9,
   "metadata": {},
   "outputs": [
    {
     "data": {
      "text/html": [
       "<div>\n",
       "<style scoped>\n",
       "    .dataframe tbody tr th:only-of-type {\n",
       "        vertical-align: middle;\n",
       "    }\n",
       "\n",
       "    .dataframe tbody tr th {\n",
       "        vertical-align: top;\n",
       "    }\n",
       "\n",
       "    .dataframe thead th {\n",
       "        text-align: right;\n",
       "    }\n",
       "</style>\n",
       "<table border=\"1\" class=\"dataframe\">\n",
       "  <thead>\n",
       "    <tr style=\"text-align: right;\">\n",
       "      <th></th>\n",
       "      <th>NaN/cells_%</th>\n",
       "    </tr>\n",
       "  </thead>\n",
       "  <tbody>\n",
       "    <tr>\n",
       "      <th>connection_type</th>\n",
       "      <td>3</td>\n",
       "    </tr>\n",
       "    <tr>\n",
       "      <th>weight</th>\n",
       "      <td>5</td>\n",
       "    </tr>\n",
       "    <tr>\n",
       "      <th>range_outside</th>\n",
       "      <td>8</td>\n",
       "    </tr>\n",
       "    <tr>\n",
       "      <th>child_size_width</th>\n",
       "      <td>8</td>\n",
       "    </tr>\n",
       "    <tr>\n",
       "      <th>child_size_length</th>\n",
       "      <td>8</td>\n",
       "    </tr>\n",
       "    <tr>\n",
       "      <th>range_inside</th>\n",
       "      <td>18</td>\n",
       "    </tr>\n",
       "    <tr>\n",
       "      <th>display</th>\n",
       "      <td>21</td>\n",
       "    </tr>\n",
       "    <tr>\n",
       "      <th>count_connection_type</th>\n",
       "      <td>29</td>\n",
       "    </tr>\n",
       "    <tr>\n",
       "      <th>parent_size_length</th>\n",
       "      <td>32</td>\n",
       "    </tr>\n",
       "    <tr>\n",
       "      <th>parent_size_width</th>\n",
       "      <td>32</td>\n",
       "    </tr>\n",
       "    <tr>\n",
       "      <th>battery_life</th>\n",
       "      <td>34</td>\n",
       "    </tr>\n",
       "  </tbody>\n",
       "</table>\n",
       "</div>"
      ],
      "text/plain": [
       "                      NaN/cells_%\n",
       "connection_type                 3\n",
       "weight                          5\n",
       "range_outside                   8\n",
       "child_size_width                8\n",
       "child_size_length               8\n",
       "range_inside                   18\n",
       "display                        21\n",
       "count_connection_type          29\n",
       "parent_size_length             32\n",
       "parent_size_width              32\n",
       "battery_life                   34"
      ]
     },
     "execution_count": 9,
     "metadata": {},
     "output_type": "execute_result"
    }
   ],
   "source": [
    "NaN_gap.sort_values(by = 'NaN/cells_%')"
   ]
  },
  {
   "cell_type": "markdown",
   "metadata": {},
   "source": [
    "<font size=\"4\">Мы можем видеть, что наши столбцы с техническими характеристиками имеют очень много пропусков. Наши данные собирались вручную, поэтому было очень проблематично найти все технические характеристики каждой видеокамеры. В дальнейшем мы будем обрабатывать эти пропуски</font>"
   ]
  },
  {
   "cell_type": "code",
   "execution_count": 10,
   "metadata": {},
   "outputs": [],
   "source": [
    "##def convert_percent(val):\n",
    "##    new_val = val.replace('%', '')\n",
    "##    return float(new_val) / 100\n",
    "##x['NaN_percent'].apply(convert_percent)\n",
    "#\n",
    "#x['NaN_percent'].apply(lambda x: x.replace('%', ''))"
   ]
  },
  {
   "cell_type": "markdown",
   "metadata": {},
   "source": [
    "## Анализируем столбец с технической характеристикой - resolution"
   ]
  },
  {
   "cell_type": "code",
   "execution_count": 11,
   "metadata": {},
   "outputs": [
    {
     "data": {
      "text/plain": [
       "array(['320х200', nan, '360х240', '1280x720', '1920х1080', '640х480',\n",
       "       '640x480', '320х240', '480x272', '480х272', '320x240', '1920x1080',\n",
       "       '1280x1024', '220x176'], dtype=object)"
      ]
     },
     "execution_count": 11,
     "metadata": {},
     "output_type": "execute_result"
    }
   ],
   "source": [
    "data['resolution'].unique()"
   ]
  },
  {
   "cell_type": "code",
   "execution_count": 12,
   "metadata": {},
   "outputs": [
    {
     "data": {
      "text/html": [
       "<div>\n",
       "<style scoped>\n",
       "    .dataframe tbody tr th:only-of-type {\n",
       "        vertical-align: middle;\n",
       "    }\n",
       "\n",
       "    .dataframe tbody tr th {\n",
       "        vertical-align: top;\n",
       "    }\n",
       "\n",
       "    .dataframe thead th {\n",
       "        text-align: right;\n",
       "    }\n",
       "</style>\n",
       "<table border=\"1\" class=\"dataframe\">\n",
       "  <thead>\n",
       "    <tr style=\"text-align: right;\">\n",
       "      <th></th>\n",
       "      <th>name</th>\n",
       "      <th>price</th>\n",
       "      <th>resolution</th>\n",
       "    </tr>\n",
       "  </thead>\n",
       "  <tbody>\n",
       "    <tr>\n",
       "      <th>1</th>\n",
       "      <td>Hello Baby HB32</td>\n",
       "      <td>8900</td>\n",
       "      <td>NaN</td>\n",
       "    </tr>\n",
       "    <tr>\n",
       "      <th>2</th>\n",
       "      <td>Beurer JBY100</td>\n",
       "      <td>8800</td>\n",
       "      <td>NaN</td>\n",
       "    </tr>\n",
       "    <tr>\n",
       "      <th>8</th>\n",
       "      <td>Summer Infant Slim&amp;Secure 2.5</td>\n",
       "      <td>9799</td>\n",
       "      <td>NaN</td>\n",
       "    </tr>\n",
       "    <tr>\n",
       "      <th>13</th>\n",
       "      <td>Hello Baby HB65</td>\n",
       "      <td>11399</td>\n",
       "      <td>NaN</td>\n",
       "    </tr>\n",
       "    <tr>\n",
       "      <th>15</th>\n",
       "      <td>Ramili Baby RV500X2</td>\n",
       "      <td>12500</td>\n",
       "      <td>NaN</td>\n",
       "    </tr>\n",
       "    <tr>\n",
       "      <th>32</th>\n",
       "      <td>Philips AVENT SCD60300</td>\n",
       "      <td>10899</td>\n",
       "      <td>NaN</td>\n",
       "    </tr>\n",
       "    <tr>\n",
       "      <th>33</th>\n",
       "      <td>Miniland Digimonitor 3.5 plus</td>\n",
       "      <td>19500</td>\n",
       "      <td>NaN</td>\n",
       "    </tr>\n",
       "  </tbody>\n",
       "</table>\n",
       "</div>"
      ],
      "text/plain": [
       "                             name  price resolution\n",
       "1                 Hello Baby HB32   8900        NaN\n",
       "2                   Beurer JBY100   8800        NaN\n",
       "8   Summer Infant Slim&Secure 2.5   9799        NaN\n",
       "13                Hello Baby HB65  11399        NaN\n",
       "15            Ramili Baby RV500X2  12500        NaN\n",
       "32         Philips AVENT SCD60300  10899        NaN\n",
       "33  Miniland Digimonitor 3.5 plus  19500        NaN"
      ]
     },
     "execution_count": 12,
     "metadata": {},
     "output_type": "execute_result"
    }
   ],
   "source": [
    "data[['name', 'price', 'resolution']][data['resolution'].isnull()]"
   ]
  },
  {
   "cell_type": "code",
   "execution_count": 13,
   "metadata": {},
   "outputs": [],
   "source": [
    "data['resolution'] = data['resolution'].fillna('tbd')\n",
    "#data['resolution']"
   ]
  },
  {
   "cell_type": "code",
   "execution_count": 14,
   "metadata": {},
   "outputs": [],
   "source": [
    "def resolution(table):\n",
    "    if '1920x1080' in table:\n",
    "        return 9\n",
    "    if '1920х1080' in table:\n",
    "        return 9\n",
    "    if '1280x720' in table:\n",
    "        return 7\n",
    "    if '1280x720' in table:\n",
    "        return 7\n",
    "    if '640х480' in table:\n",
    "        return 6\n",
    "    if '640x480' in table:\n",
    "        return 6\n",
    "    if '480х272' in table:\n",
    "        return 5\n",
    "    if '480x272' in table:\n",
    "        return 5\n",
    "    if '320x240' in table:\n",
    "        return 4\n",
    "    if '320х240' in table:\n",
    "        return 4\n",
    "    if '320х200' in table:\n",
    "        return 3\n",
    "    if '320х200' in table:\n",
    "        return 3\n",
    "    if '220x176' in table:\n",
    "        return 2\n",
    "    if '220x176' in table:\n",
    "        return 2\n",
    "    if 'tbd' in table:\n",
    "        return 1\n",
    "    if '1280x1024' in table:\n",
    "        return 8\n",
    "\n",
    "data['resolution_count'] = data['resolution'].apply(resolution)\n",
    "#data['resolution_count']"
   ]
  },
  {
   "cell_type": "markdown",
   "metadata": {},
   "source": [
    "<font size=\"4\">Вывод: пропуски в столбце **'resolution'** просто меняем на **'tbd'**. В дальнейшем нам надо будет отсортировать камеры по разрешению. Проблема в том, что стобец **'resolution'** имеет тип **object**. Создадим столбец **'resolution_count'** в котором придумаем рейтинговую систему для разрешения камер, т.e **'220x176' - 1**, **'1920x1080' - 9**. Тем самым в дальнейшем мы отсортируем столбец по возрастанию и определим какие камеры имеют самое лучшее разрешение.</font>"
   ]
  },
  {
   "cell_type": "markdown",
   "metadata": {},
   "source": [
    "## Анализируем столбец с технической характеристикой - battery_life"
   ]
  },
  {
   "cell_type": "code",
   "execution_count": 15,
   "metadata": {},
   "outputs": [
    {
     "data": {
      "text/plain": [
       "<IntegerArray>\n",
       "[6, 5, 8, 3, <NA>, 40, 18, 10, 13, 50, 4, 24]\n",
       "Length: 12, dtype: Int64"
      ]
     },
     "execution_count": 15,
     "metadata": {},
     "output_type": "execute_result"
    }
   ],
   "source": [
    "data['battery_life'] = data['battery_life'].astype('Int64')\n",
    "data['battery_life'].unique()"
   ]
  },
  {
   "cell_type": "code",
   "execution_count": 16,
   "metadata": {},
   "outputs": [],
   "source": [
    "data['battery_life'] = data['battery_life'].fillna(-1)"
   ]
  },
  {
   "cell_type": "code",
   "execution_count": null,
   "metadata": {},
   "outputs": [],
   "source": []
  },
  {
   "cell_type": "code",
   "execution_count": 17,
   "metadata": {},
   "outputs": [
    {
     "data": {
      "text/plain": [
       "5              Miniland everywhere IPcam\n",
       "6                         HelloBaby HB25\n",
       "8          Summer Infant Slim&Secure 2.5\n",
       "9                Miniland Spin IP Camera\n",
       "11               Motorola MBP853 CONNECT\n",
       "14                        Alecto DVM-150\n",
       "16                  Chicco Top Delux 254\n",
       "23    Wi-Fi Wisenet SmartCam SNH-V6410PN\n",
       "26                  Chicco Basic - Smart\n",
       "27                      iBaby Monitor M6\n",
       "28          Samsung SmartCam SNH-C6417BN\n",
       "32                Philips AVENT SCD60300\n",
       "37                          SITITEK BM02\n",
       "Name: name, dtype: object"
      ]
     },
     "execution_count": 17,
     "metadata": {},
     "output_type": "execute_result"
    }
   ],
   "source": [
    "# Список устройств без аккумулятора\n",
    "data[data['battery_life'] == -1]['name']"
   ]
  },
  {
   "cell_type": "markdown",
   "metadata": {},
   "source": [
    "<font size=\"4\">Мы получили пропуски в данных, описывающих время\n",
    "работы устройств, так как, скорее всего, эти устройства работают **на батарейках или от сети.** Какая-то малая часть магазинов указывает вместо времени работы батареи ёмкость аккумуляторов</font>"
   ]
  },
  {
   "cell_type": "markdown",
   "metadata": {},
   "source": [
    "## Анализируем столбец с технической характеристикой - count_connection_type"
   ]
  },
  {
   "cell_type": "code",
   "execution_count": 18,
   "metadata": {},
   "outputs": [
    {
     "data": {
      "text/html": [
       "<div>\n",
       "<style scoped>\n",
       "    .dataframe tbody tr th:only-of-type {\n",
       "        vertical-align: middle;\n",
       "    }\n",
       "\n",
       "    .dataframe tbody tr th {\n",
       "        vertical-align: top;\n",
       "    }\n",
       "\n",
       "    .dataframe thead th {\n",
       "        text-align: right;\n",
       "    }\n",
       "</style>\n",
       "<table border=\"1\" class=\"dataframe\">\n",
       "  <thead>\n",
       "    <tr style=\"text-align: right;\">\n",
       "      <th></th>\n",
       "      <th>price</th>\n",
       "      <th>child_size_width</th>\n",
       "      <th>child_size_length</th>\n",
       "      <th>count_connection_type</th>\n",
       "    </tr>\n",
       "  </thead>\n",
       "  <tbody>\n",
       "    <tr>\n",
       "      <th>1</th>\n",
       "      <td>8900</td>\n",
       "      <td>64.0</td>\n",
       "      <td>125.0</td>\n",
       "      <td>NaN</td>\n",
       "    </tr>\n",
       "    <tr>\n",
       "      <th>2</th>\n",
       "      <td>8800</td>\n",
       "      <td>89.0</td>\n",
       "      <td>110.0</td>\n",
       "      <td>NaN</td>\n",
       "    </tr>\n",
       "    <tr>\n",
       "      <th>16</th>\n",
       "      <td>12769</td>\n",
       "      <td>95.0</td>\n",
       "      <td>125.0</td>\n",
       "      <td>NaN</td>\n",
       "    </tr>\n",
       "    <tr>\n",
       "      <th>18</th>\n",
       "      <td>13990</td>\n",
       "      <td>123.0</td>\n",
       "      <td>77.0</td>\n",
       "      <td>NaN</td>\n",
       "    </tr>\n",
       "    <tr>\n",
       "      <th>19</th>\n",
       "      <td>13990</td>\n",
       "      <td>105.0</td>\n",
       "      <td>170.0</td>\n",
       "      <td>NaN</td>\n",
       "    </tr>\n",
       "    <tr>\n",
       "      <th>21</th>\n",
       "      <td>9900</td>\n",
       "      <td>24.0</td>\n",
       "      <td>95.0</td>\n",
       "      <td>NaN</td>\n",
       "    </tr>\n",
       "    <tr>\n",
       "      <th>23</th>\n",
       "      <td>9990</td>\n",
       "      <td>84.0</td>\n",
       "      <td>85.0</td>\n",
       "      <td>NaN</td>\n",
       "    </tr>\n",
       "    <tr>\n",
       "      <th>24</th>\n",
       "      <td>10000</td>\n",
       "      <td>130.0</td>\n",
       "      <td>140.0</td>\n",
       "      <td>NaN</td>\n",
       "    </tr>\n",
       "    <tr>\n",
       "      <th>25</th>\n",
       "      <td>10700</td>\n",
       "      <td>80.0</td>\n",
       "      <td>80.0</td>\n",
       "      <td>NaN</td>\n",
       "    </tr>\n",
       "    <tr>\n",
       "      <th>36</th>\n",
       "      <td>3620</td>\n",
       "      <td>60.0</td>\n",
       "      <td>60.0</td>\n",
       "      <td>NaN</td>\n",
       "    </tr>\n",
       "    <tr>\n",
       "      <th>38</th>\n",
       "      <td>39790</td>\n",
       "      <td>75.0</td>\n",
       "      <td>125.0</td>\n",
       "      <td>NaN</td>\n",
       "    </tr>\n",
       "  </tbody>\n",
       "</table>\n",
       "</div>"
      ],
      "text/plain": [
       "    price  child_size_width  child_size_length  count_connection_type\n",
       "1    8900              64.0              125.0                    NaN\n",
       "2    8800              89.0              110.0                    NaN\n",
       "16  12769              95.0              125.0                    NaN\n",
       "18  13990             123.0               77.0                    NaN\n",
       "19  13990             105.0              170.0                    NaN\n",
       "21   9900              24.0               95.0                    NaN\n",
       "23   9990              84.0               85.0                    NaN\n",
       "24  10000             130.0              140.0                    NaN\n",
       "25  10700              80.0               80.0                    NaN\n",
       "36   3620              60.0               60.0                    NaN\n",
       "38  39790              75.0              125.0                    NaN"
      ]
     },
     "execution_count": 18,
     "metadata": {},
     "output_type": "execute_result"
    }
   ],
   "source": [
    "data[['price', 'child_size_width', 'child_size_length', 'count_connection_type']][data['count_connection_type'].isnull()]"
   ]
  },
  {
   "cell_type": "markdown",
   "metadata": {},
   "source": [
    "<font size=\"4\">Скорее всего, магазин просто не посчитал нужным указывать эту информацию. Пропуски заменять не будем, потому что в дальнейшим **использовать эти данные в анализе не будем.**</font>"
   ]
  },
  {
   "cell_type": "markdown",
   "metadata": {},
   "source": [
    "## Анализируем столбец с технической характеристикой - child_size_width / length"
   ]
  },
  {
   "cell_type": "code",
   "execution_count": 19,
   "metadata": {},
   "outputs": [
    {
     "data": {
      "text/html": [
       "<div>\n",
       "<style scoped>\n",
       "    .dataframe tbody tr th:only-of-type {\n",
       "        vertical-align: middle;\n",
       "    }\n",
       "\n",
       "    .dataframe tbody tr th {\n",
       "        vertical-align: top;\n",
       "    }\n",
       "\n",
       "    .dataframe thead th {\n",
       "        text-align: right;\n",
       "    }\n",
       "</style>\n",
       "<table border=\"1\" class=\"dataframe\">\n",
       "  <thead>\n",
       "    <tr style=\"text-align: right;\">\n",
       "      <th></th>\n",
       "      <th>name</th>\n",
       "      <th>price</th>\n",
       "      <th>child_size_width</th>\n",
       "      <th>child_size_length</th>\n",
       "      <th>parent_size_length</th>\n",
       "      <th>phone_connection</th>\n",
       "    </tr>\n",
       "  </thead>\n",
       "  <tbody>\n",
       "    <tr>\n",
       "      <th>4</th>\n",
       "      <td>Kodak CHERISH C220</td>\n",
       "      <td>9148</td>\n",
       "      <td>NaN</td>\n",
       "      <td>NaN</td>\n",
       "      <td>NaN</td>\n",
       "      <td>1</td>\n",
       "    </tr>\n",
       "    <tr>\n",
       "      <th>30</th>\n",
       "      <td>Kodak CHERISH C225</td>\n",
       "      <td>8090</td>\n",
       "      <td>NaN</td>\n",
       "      <td>NaN</td>\n",
       "      <td>NaN</td>\n",
       "      <td>0</td>\n",
       "    </tr>\n",
       "    <tr>\n",
       "      <th>32</th>\n",
       "      <td>Philips AVENT SCD60300</td>\n",
       "      <td>10899</td>\n",
       "      <td>NaN</td>\n",
       "      <td>NaN</td>\n",
       "      <td>150.0</td>\n",
       "      <td>1</td>\n",
       "    </tr>\n",
       "  </tbody>\n",
       "</table>\n",
       "</div>"
      ],
      "text/plain": [
       "                      name  price  child_size_width  child_size_length  \\\n",
       "4       Kodak CHERISH C220   9148               NaN                NaN   \n",
       "30      Kodak CHERISH C225   8090               NaN                NaN   \n",
       "32  Philips AVENT SCD60300  10899               NaN                NaN   \n",
       "\n",
       "    parent_size_length  phone_connection  \n",
       "4                  NaN                 1  \n",
       "30                 NaN                 0  \n",
       "32               150.0                 1  "
      ]
     },
     "execution_count": 19,
     "metadata": {},
     "output_type": "execute_result"
    }
   ],
   "source": [
    "data[['name', 'price', 'child_size_width', 'child_size_length', 'parent_size_length',  'phone_connection']][data['child_size_width'].isnull()]"
   ]
  },
  {
   "cell_type": "code",
   "execution_count": 20,
   "metadata": {},
   "outputs": [],
   "source": [
    "data = data.dropna(subset = ['child_size_width'])"
   ]
  },
  {
   "cell_type": "markdown",
   "metadata": {},
   "source": [
    "<font size=\"4\">К сожалению, **удаляем устройства, где не указаны размеры камер.** Эти данные не несут ценности для нашего анализа.</font>"
   ]
  },
  {
   "cell_type": "markdown",
   "metadata": {},
   "source": [
    "## Анализируем столбец с технической характеристикой - parent_size_width / length"
   ]
  },
  {
   "cell_type": "code",
   "execution_count": 21,
   "metadata": {},
   "outputs": [
    {
     "data": {
      "text/html": [
       "<div>\n",
       "<style scoped>\n",
       "    .dataframe tbody tr th:only-of-type {\n",
       "        vertical-align: middle;\n",
       "    }\n",
       "\n",
       "    .dataframe tbody tr th {\n",
       "        vertical-align: top;\n",
       "    }\n",
       "\n",
       "    .dataframe thead th {\n",
       "        text-align: right;\n",
       "    }\n",
       "</style>\n",
       "<table border=\"1\" class=\"dataframe\">\n",
       "  <thead>\n",
       "    <tr style=\"text-align: right;\">\n",
       "      <th></th>\n",
       "      <th>name</th>\n",
       "      <th>price</th>\n",
       "      <th>child_size_width</th>\n",
       "      <th>child_size_length</th>\n",
       "      <th>parent_size_width</th>\n",
       "      <th>parent_size_length</th>\n",
       "      <th>phone_connection</th>\n",
       "    </tr>\n",
       "  </thead>\n",
       "  <tbody>\n",
       "    <tr>\n",
       "      <th>5</th>\n",
       "      <td>Miniland everywhere IPcam</td>\n",
       "      <td>9380</td>\n",
       "      <td>85.0</td>\n",
       "      <td>111.0</td>\n",
       "      <td>NaN</td>\n",
       "      <td>NaN</td>\n",
       "      <td>0</td>\n",
       "    </tr>\n",
       "    <tr>\n",
       "      <th>9</th>\n",
       "      <td>Miniland Spin IP Camera</td>\n",
       "      <td>12880</td>\n",
       "      <td>105.0</td>\n",
       "      <td>125.0</td>\n",
       "      <td>NaN</td>\n",
       "      <td>NaN</td>\n",
       "      <td>0</td>\n",
       "    </tr>\n",
       "    <tr>\n",
       "      <th>12</th>\n",
       "      <td>Ramili Baby RV1300</td>\n",
       "      <td>14990</td>\n",
       "      <td>100.0</td>\n",
       "      <td>150.0</td>\n",
       "      <td>NaN</td>\n",
       "      <td>NaN</td>\n",
       "      <td>0</td>\n",
       "    </tr>\n",
       "    <tr>\n",
       "      <th>20</th>\n",
       "      <td>Alcatel IPC-21FX</td>\n",
       "      <td>14650</td>\n",
       "      <td>56.0</td>\n",
       "      <td>130.0</td>\n",
       "      <td>NaN</td>\n",
       "      <td>NaN</td>\n",
       "      <td>0</td>\n",
       "    </tr>\n",
       "    <tr>\n",
       "      <th>23</th>\n",
       "      <td>Wi-Fi Wisenet SmartCam SNH-V6410PN</td>\n",
       "      <td>9990</td>\n",
       "      <td>84.0</td>\n",
       "      <td>85.0</td>\n",
       "      <td>NaN</td>\n",
       "      <td>NaN</td>\n",
       "      <td>0</td>\n",
       "    </tr>\n",
       "    <tr>\n",
       "      <th>24</th>\n",
       "      <td>Link-NC21G-8GS</td>\n",
       "      <td>10000</td>\n",
       "      <td>130.0</td>\n",
       "      <td>140.0</td>\n",
       "      <td>NaN</td>\n",
       "      <td>NaN</td>\n",
       "      <td>0</td>\n",
       "    </tr>\n",
       "    <tr>\n",
       "      <th>26</th>\n",
       "      <td>Chicco Basic - Smart</td>\n",
       "      <td>11500</td>\n",
       "      <td>180.0</td>\n",
       "      <td>220.0</td>\n",
       "      <td>NaN</td>\n",
       "      <td>NaN</td>\n",
       "      <td>1</td>\n",
       "    </tr>\n",
       "    <tr>\n",
       "      <th>27</th>\n",
       "      <td>iBaby Monitor M6</td>\n",
       "      <td>9990</td>\n",
       "      <td>117.0</td>\n",
       "      <td>151.0</td>\n",
       "      <td>NaN</td>\n",
       "      <td>NaN</td>\n",
       "      <td>0</td>\n",
       "    </tr>\n",
       "    <tr>\n",
       "      <th>28</th>\n",
       "      <td>Samsung SmartCam SNH-C6417BN</td>\n",
       "      <td>10390</td>\n",
       "      <td>100.0</td>\n",
       "      <td>120.0</td>\n",
       "      <td>NaN</td>\n",
       "      <td>NaN</td>\n",
       "      <td>0</td>\n",
       "    </tr>\n",
       "    <tr>\n",
       "      <th>29</th>\n",
       "      <td>iBaby Monitor M2</td>\n",
       "      <td>10490</td>\n",
       "      <td>76.0</td>\n",
       "      <td>76.0</td>\n",
       "      <td>NaN</td>\n",
       "      <td>NaN</td>\n",
       "      <td>0</td>\n",
       "    </tr>\n",
       "  </tbody>\n",
       "</table>\n",
       "</div>"
      ],
      "text/plain": [
       "                                  name  price  child_size_width  \\\n",
       "5            Miniland everywhere IPcam   9380              85.0   \n",
       "9              Miniland Spin IP Camera  12880             105.0   \n",
       "12                  Ramili Baby RV1300  14990             100.0   \n",
       "20                    Alcatel IPC-21FX  14650              56.0   \n",
       "23  Wi-Fi Wisenet SmartCam SNH-V6410PN   9990              84.0   \n",
       "24                      Link-NC21G-8GS  10000             130.0   \n",
       "26                Chicco Basic - Smart  11500             180.0   \n",
       "27                    iBaby Monitor M6   9990             117.0   \n",
       "28        Samsung SmartCam SNH-C6417BN  10390             100.0   \n",
       "29                    iBaby Monitor M2  10490              76.0   \n",
       "\n",
       "    child_size_length  parent_size_width  parent_size_length  phone_connection  \n",
       "5               111.0                NaN                 NaN                 0  \n",
       "9               125.0                NaN                 NaN                 0  \n",
       "12              150.0                NaN                 NaN                 0  \n",
       "20              130.0                NaN                 NaN                 0  \n",
       "23               85.0                NaN                 NaN                 0  \n",
       "24              140.0                NaN                 NaN                 0  \n",
       "26              220.0                NaN                 NaN                 1  \n",
       "27              151.0                NaN                 NaN                 0  \n",
       "28              120.0                NaN                 NaN                 0  \n",
       "29               76.0                NaN                 NaN                 0  "
      ]
     },
     "execution_count": 21,
     "metadata": {},
     "output_type": "execute_result"
    }
   ],
   "source": [
    "data[['name','price', 'child_size_width', 'child_size_length', 'parent_size_width', 'parent_size_length', 'phone_connection']][data['parent_size_width'].isnull()]"
   ]
  },
  {
   "cell_type": "code",
   "execution_count": 22,
   "metadata": {},
   "outputs": [],
   "source": [
    "data['parent_size_width'] = data['parent_size_width'].fillna(-1)\n",
    "data['parent_size_length'] = data['parent_size_length'].fillna(-1)"
   ]
  },
  {
   "cell_type": "markdown",
   "metadata": {},
   "source": [
    "<font size=\"4\">У подавляющего большинства устройств, где отсутсвует размер пульта присутствует подключение через телефон. Это даёт нам смело заявлять, что пульт в комплекте не предусматривается. Просто **заполняем пропуски -1.**</font>"
   ]
  },
  {
   "cell_type": "markdown",
   "metadata": {},
   "source": [
    "## Анализируем столбец с технической характеристикой - range_outside\n"
   ]
  },
  {
   "cell_type": "code",
   "execution_count": 23,
   "metadata": {},
   "outputs": [
    {
     "data": {
      "text/html": [
       "<div>\n",
       "<style scoped>\n",
       "    .dataframe tbody tr th:only-of-type {\n",
       "        vertical-align: middle;\n",
       "    }\n",
       "\n",
       "    .dataframe tbody tr th {\n",
       "        vertical-align: top;\n",
       "    }\n",
       "\n",
       "    .dataframe thead th {\n",
       "        text-align: right;\n",
       "    }\n",
       "</style>\n",
       "<table border=\"1\" class=\"dataframe\">\n",
       "  <thead>\n",
       "    <tr style=\"text-align: right;\">\n",
       "      <th></th>\n",
       "      <th>price</th>\n",
       "      <th>range_inside</th>\n",
       "      <th>range_outside</th>\n",
       "      <th>connection_type</th>\n",
       "    </tr>\n",
       "  </thead>\n",
       "  <tbody>\n",
       "    <tr>\n",
       "      <th>20</th>\n",
       "      <td>14650</td>\n",
       "      <td>NaN</td>\n",
       "      <td>NaN</td>\n",
       "      <td>Wi-Fi</td>\n",
       "    </tr>\n",
       "    <tr>\n",
       "      <th>27</th>\n",
       "      <td>9990</td>\n",
       "      <td>NaN</td>\n",
       "      <td>NaN</td>\n",
       "      <td>Wi-Fi</td>\n",
       "    </tr>\n",
       "    <tr>\n",
       "      <th>28</th>\n",
       "      <td>10390</td>\n",
       "      <td>NaN</td>\n",
       "      <td>NaN</td>\n",
       "      <td>Wi-Fi</td>\n",
       "    </tr>\n",
       "  </tbody>\n",
       "</table>\n",
       "</div>"
      ],
      "text/plain": [
       "    price  range_inside  range_outside connection_type\n",
       "20  14650           NaN            NaN           Wi-Fi\n",
       "27   9990           NaN            NaN           Wi-Fi\n",
       "28  10390           NaN            NaN           Wi-Fi"
      ]
     },
     "execution_count": 23,
     "metadata": {},
     "output_type": "execute_result"
    }
   ],
   "source": [
    "data[['price', 'range_inside', 'range_outside', 'connection_type']][data['range_outside'].isnull()]"
   ]
  },
  {
   "cell_type": "code",
   "execution_count": 24,
   "metadata": {},
   "outputs": [],
   "source": [
    "data['range_outside'] = data['range_outside'].fillna(-1)"
   ]
  },
  {
   "cell_type": "markdown",
   "metadata": {},
   "source": [
    "<font size=\"4\">__Пропуски в ***'range_outside'*** также заменим -1.__ Конечно было бы гораздо лучше использовать медиану столбца **'range_outside'**, где присутствуют схожие значения в столбце **'range_inside'**. Но из-за отсутствия больших данных мы не можем этого сделать.</font>"
   ]
  },
  {
   "cell_type": "markdown",
   "metadata": {},
   "source": [
    "## Анализируем столбец с технической характеристикой - range_inside\n"
   ]
  },
  {
   "cell_type": "code",
   "execution_count": 25,
   "metadata": {},
   "outputs": [
    {
     "data": {
      "text/html": [
       "<div>\n",
       "<style scoped>\n",
       "    .dataframe tbody tr th:only-of-type {\n",
       "        vertical-align: middle;\n",
       "    }\n",
       "\n",
       "    .dataframe tbody tr th {\n",
       "        vertical-align: top;\n",
       "    }\n",
       "\n",
       "    .dataframe thead th {\n",
       "        text-align: right;\n",
       "    }\n",
       "</style>\n",
       "<table border=\"1\" class=\"dataframe\">\n",
       "  <thead>\n",
       "    <tr style=\"text-align: right;\">\n",
       "      <th></th>\n",
       "      <th>range_inside</th>\n",
       "      <th>range_outside</th>\n",
       "      <th>price</th>\n",
       "    </tr>\n",
       "  </thead>\n",
       "  <tbody>\n",
       "    <tr>\n",
       "      <th>2</th>\n",
       "      <td>NaN</td>\n",
       "      <td>150.0</td>\n",
       "      <td>8800</td>\n",
       "    </tr>\n",
       "    <tr>\n",
       "      <th>11</th>\n",
       "      <td>NaN</td>\n",
       "      <td>300.0</td>\n",
       "      <td>11220</td>\n",
       "    </tr>\n",
       "    <tr>\n",
       "      <th>19</th>\n",
       "      <td>NaN</td>\n",
       "      <td>300.0</td>\n",
       "      <td>13990</td>\n",
       "    </tr>\n",
       "    <tr>\n",
       "      <th>20</th>\n",
       "      <td>NaN</td>\n",
       "      <td>-1.0</td>\n",
       "      <td>14650</td>\n",
       "    </tr>\n",
       "    <tr>\n",
       "      <th>27</th>\n",
       "      <td>NaN</td>\n",
       "      <td>-1.0</td>\n",
       "      <td>9990</td>\n",
       "    </tr>\n",
       "    <tr>\n",
       "      <th>28</th>\n",
       "      <td>NaN</td>\n",
       "      <td>-1.0</td>\n",
       "      <td>10390</td>\n",
       "    </tr>\n",
       "  </tbody>\n",
       "</table>\n",
       "</div>"
      ],
      "text/plain": [
       "    range_inside  range_outside  price\n",
       "2            NaN          150.0   8800\n",
       "11           NaN          300.0  11220\n",
       "19           NaN          300.0  13990\n",
       "20           NaN           -1.0  14650\n",
       "27           NaN           -1.0   9990\n",
       "28           NaN           -1.0  10390"
      ]
     },
     "execution_count": 25,
     "metadata": {},
     "output_type": "execute_result"
    }
   ],
   "source": [
    "data[['range_inside', 'range_outside', 'price']][data['range_inside'].isnull()]"
   ]
  },
  {
   "cell_type": "code",
   "execution_count": 26,
   "metadata": {},
   "outputs": [],
   "source": [
    "data['range_inside'] = data['range_inside'].fillna(-1)"
   ]
  },
  {
   "cell_type": "markdown",
   "metadata": {},
   "source": [
    "<font size=\"4\">__Пропуски в ***'range_inside'*** также заменим -1.__ Конечно было бы гораздо лучше использовать медиану столбца **'range_inside'**, где присутствуют схожие значения в столбце **'range_outside'**. Но из-за отсутствия больших данных мы не можем этого сделать.</font>"
   ]
  },
  {
   "cell_type": "code",
   "execution_count": 27,
   "metadata": {},
   "outputs": [],
   "source": [
    "#data[['phone_connection', 'range_inside', 'range_outside', 'price']].query('price >= 8000').sort_values(by = ['price'])"
   ]
  },
  {
   "cell_type": "markdown",
   "metadata": {},
   "source": [
    "## Анализируем столбец с технической характеристикой - weight\n"
   ]
  },
  {
   "cell_type": "code",
   "execution_count": 28,
   "metadata": {},
   "outputs": [
    {
     "data": {
      "text/html": [
       "<div>\n",
       "<style scoped>\n",
       "    .dataframe tbody tr th:only-of-type {\n",
       "        vertical-align: middle;\n",
       "    }\n",
       "\n",
       "    .dataframe tbody tr th {\n",
       "        vertical-align: top;\n",
       "    }\n",
       "\n",
       "    .dataframe thead th {\n",
       "        text-align: right;\n",
       "    }\n",
       "</style>\n",
       "<table border=\"1\" class=\"dataframe\">\n",
       "  <thead>\n",
       "    <tr style=\"text-align: right;\">\n",
       "      <th></th>\n",
       "      <th>price</th>\n",
       "      <th>parent_size_width</th>\n",
       "      <th>parent_size_length</th>\n",
       "      <th>weight</th>\n",
       "    </tr>\n",
       "  </thead>\n",
       "  <tbody>\n",
       "    <tr>\n",
       "      <th>19</th>\n",
       "      <td>13990</td>\n",
       "      <td>85.0</td>\n",
       "      <td>110.0</td>\n",
       "      <td>NaN</td>\n",
       "    </tr>\n",
       "    <tr>\n",
       "      <th>21</th>\n",
       "      <td>9900</td>\n",
       "      <td>75.0</td>\n",
       "      <td>111.0</td>\n",
       "      <td>NaN</td>\n",
       "    </tr>\n",
       "  </tbody>\n",
       "</table>\n",
       "</div>"
      ],
      "text/plain": [
       "    price  parent_size_width  parent_size_length  weight\n",
       "19  13990               85.0               110.0     NaN\n",
       "21   9900               75.0               111.0     NaN"
      ]
     },
     "execution_count": 28,
     "metadata": {},
     "output_type": "execute_result"
    }
   ],
   "source": [
    "data[['price', 'parent_size_width', 'parent_size_length', 'weight']][data['weight'].isnull()]"
   ]
  },
  {
   "cell_type": "code",
   "execution_count": 29,
   "metadata": {},
   "outputs": [
    {
     "data": {
      "text/html": [
       "<div>\n",
       "<style scoped>\n",
       "    .dataframe tbody tr th:only-of-type {\n",
       "        vertical-align: middle;\n",
       "    }\n",
       "\n",
       "    .dataframe tbody tr th {\n",
       "        vertical-align: top;\n",
       "    }\n",
       "\n",
       "    .dataframe thead th {\n",
       "        text-align: right;\n",
       "    }\n",
       "</style>\n",
       "<table border=\"1\" class=\"dataframe\">\n",
       "  <thead>\n",
       "    <tr style=\"text-align: right;\">\n",
       "      <th></th>\n",
       "      <th>price</th>\n",
       "      <th>parent_size_length</th>\n",
       "      <th>parent_size_width</th>\n",
       "      <th>weight</th>\n",
       "    </tr>\n",
       "  </thead>\n",
       "  <tbody>\n",
       "    <tr>\n",
       "      <th>29</th>\n",
       "      <td>10490</td>\n",
       "      <td>-1.0</td>\n",
       "      <td>-1.0</td>\n",
       "      <td>150.0</td>\n",
       "    </tr>\n",
       "    <tr>\n",
       "      <th>31</th>\n",
       "      <td>10990</td>\n",
       "      <td>110.0</td>\n",
       "      <td>50.0</td>\n",
       "      <td>650.0</td>\n",
       "    </tr>\n",
       "    <tr>\n",
       "      <th>2</th>\n",
       "      <td>8800</td>\n",
       "      <td>140.0</td>\n",
       "      <td>65.0</td>\n",
       "      <td>154.0</td>\n",
       "    </tr>\n",
       "    <tr>\n",
       "      <th>8</th>\n",
       "      <td>9799</td>\n",
       "      <td>64.0</td>\n",
       "      <td>108.0</td>\n",
       "      <td>1000.0</td>\n",
       "    </tr>\n",
       "    <tr>\n",
       "      <th>7</th>\n",
       "      <td>9600</td>\n",
       "      <td>70.0</td>\n",
       "      <td>170.0</td>\n",
       "      <td>750.0</td>\n",
       "    </tr>\n",
       "  </tbody>\n",
       "</table>\n",
       "</div>"
      ],
      "text/plain": [
       "    price  parent_size_length  parent_size_width  weight\n",
       "29  10490                -1.0               -1.0   150.0\n",
       "31  10990               110.0               50.0   650.0\n",
       "2    8800               140.0               65.0   154.0\n",
       "8    9799                64.0              108.0  1000.0\n",
       "7    9600                70.0              170.0   750.0"
      ]
     },
     "execution_count": 29,
     "metadata": {},
     "output_type": "execute_result"
    }
   ],
   "source": [
    "data[['price', 'parent_size_length', 'parent_size_width', 'weight']].sample(5)"
   ]
  },
  {
   "cell_type": "code",
   "execution_count": 30,
   "metadata": {},
   "outputs": [],
   "source": [
    "data['weight'].fillna(value = data.groupby(['parent_size_length', 'parent_size_width'])['weight'].transform('median'), inplace = True)"
   ]
  },
  {
   "cell_type": "code",
   "execution_count": 31,
   "metadata": {},
   "outputs": [],
   "source": [
    "data['weight'].fillna(value = data.groupby(['parent_size_length',])['weight'].transform('median'), inplace = True)"
   ]
  },
  {
   "cell_type": "markdown",
   "metadata": {},
   "source": [
    "<font size=\"4\">**Мы нашли устройства похожие по размеру и, предположили, что вес будет схож, таким образом, заменили пропуски на вес этих устройств**. Было бы гораздо лучше учитывать приблизительную цену устройств, схожих по размеру. Потому что вес устройства также зависит от материалов. Как правило, чем дороже материал, тем легче устройство.</font>"
   ]
  },
  {
   "cell_type": "markdown",
   "metadata": {},
   "source": [
    "\n"
   ]
  },
  {
   "cell_type": "code",
   "execution_count": null,
   "metadata": {},
   "outputs": [],
   "source": []
  },
  {
   "cell_type": "markdown",
   "metadata": {},
   "source": [
    "# Исследовательский анализ данных <a name=\"stage_3\"></a>\n",
    "\n",
    " [обратно в оглавление](#contents)"
   ]
  },
  {
   "cell_type": "code",
   "execution_count": 32,
   "metadata": {},
   "outputs": [
    {
     "data": {
      "image/png": "[encoded data removed]",
      "text/plain": [
       "<Figure size 720x720 with 1 Axes>"
      ]
     },
     "metadata": {
      "needs_background": "light"
     },
     "output_type": "display_data"
    }
   ],
   "source": [
    "data.boxplot('price', by='phone_connection',figsize=(10,10)).set_ylim(3000,40000);"
   ]
  },
  {
   "cell_type": "markdown",
   "metadata": {},
   "source": [
    "<font size=\"4\">На этом графике мы можем видеть 2 боксплота(0 - распределение цен устройств с подключением к телефону, 1 - распределение цен устройств без подключения к телефону, т.е. с отдельным пультом). *Зеленая линия показывает медиану распределения этих данных*, по этому параметру мы и будем сравнивать медианную цену двух типов устройств. Можем предположить, что медианная цена устройств с подключением телефона и устройств без подключения примерно равна. В дальнейшем проверим нашу гипотезу статистическим методом.</font>"
   ]
  },
  {
   "cell_type": "code",
   "execution_count": 33,
   "metadata": {
    "scrolled": true
   },
   "outputs": [
    {
     "data": {
      "image/png": "[encoded data removed]",
      "text/plain": [
       "<Figure size 1080x504 with 1 Axes>"
      ]
     },
     "metadata": {
      "needs_background": "light"
     },
     "output_type": "display_data"
    }
   ],
   "source": [
    "data.pivot_table(index = 'name', columns = 'region', values = 'price', aggfunc = 'sum').plot(kind='box',\n",
    "                                                                                             ylim=(1000,41000),\n",
    "                                                                                             figsize=(15,7),\n",
    "                                                                                             title=\"Boxplot видеонянь по регионам и цене\");\n"
   ]
  },
  {
   "cell_type": "markdown",
   "metadata": {},
   "source": [
    "<font size=\"4\">На этих боксплотах мы можем видеть, что **по медианному значению видеоняни, сделанные в Китае дешевле остальных.** На графике сильно выделяются видеоняни, сделанные в Южной Корее, но на самом деле из-за недостатка данных у нас получился такой результат. **Мы не можем утверждать, что в Южной Корее самые дорогие видеоняни.**</font>"
   ]
  },
  {
   "cell_type": "code",
   "execution_count": null,
   "metadata": {},
   "outputs": [],
   "source": []
  },
  {
   "cell_type": "code",
   "execution_count": 34,
   "metadata": {
    "scrolled": true
   },
   "outputs": [],
   "source": [
    "#data[['name','price', 'child_size_width', 'child_size_length', 'phone_connection']].query('phone_connection == 0').sort_values(by = ['child_size_width', 'child_size_length'])\n"
   ]
  },
  {
   "cell_type": "code",
   "execution_count": 35,
   "metadata": {
    "scrolled": true
   },
   "outputs": [
    {
     "data": {
      "image/png": "[encoded data removed]",
      "text/plain": [
       "<Figure size 1008x576 with 1 Axes>"
      ]
     },
     "metadata": {
      "needs_background": "light"
     },
     "output_type": "display_data"
    }
   ],
   "source": [
    "data['region'].unique()\n",
    "hist_region = data['region'].value_counts().plot(kind='bar',\n",
    "                                    figsize=(14,8),\n",
    "                                    title=\" Гистрограмма стран производства камер в порядке убывания\")\n",
    "hist_region;"
   ]
  },
  {
   "cell_type": "markdown",
   "metadata": {},
   "source": []
  },
  {
   "cell_type": "markdown",
   "metadata": {},
   "source": [
    "<font size=\"4\">**Лемматизация — это процесс преобразования слова в его базовую форму.** Наша программа анализирует все отрицательные комментарии пользователей, которые нам удалось собрать, объединяет различные наклоненные формы слов и считает их количество. **По самым популярным формам слов мы предположим с какими самыми актуальными проблемами сталкивается пользовать при использовании видеонянь**</font>"
   ]
  },
  {
   "cell_type": "code",
   "execution_count": 36,
   "metadata": {
    "scrolled": false
   },
   "outputs": [
    {
     "name": "stdout",
     "output_type": "stream",
     "text": [
      "Counter({' ': 1005, '.': 135, ', ': 95, 'не': 37, 'в': 24, 'камера': 22, 'и': 17, 'на': 17, 'с': 16, 'что': 14, 'но': 12, 'только': 12, 'приложение': 11, 'она': 11, 'быть': 11, 'нет': 11, 'через': 10, 'это': 10, 'от': 10, 'очень': 9, 'для': 9, 'работать': 9, 'а': 9, 'цена': 9, 'связь': 8, 'ребенок': 8, 'качество': 8, 'постоянно': 8, 'блок': 7, 'изображение': 7, 'при': 7, 'этот': 7, 'к': 7, 'телефон': 7, 'экран': 7, 'крепление': 6, 'сеть': 6, 'зарядка': 6, 'то': 6, 'колыбельный': 6, 'монитор': 6, 'я': 6, 'быстро': 5, 'самый': 5, 'если': 5, ' (': 5, 'сломаться': 5, 'за': 5, 'как': 5, 'у': 5, 'аккумулятор': 5, 'датчик': 4, 'картинка': 4, 'подключаться': 4, 'такой': 4, 'дешевый': 4, 'стена': 4, 'мы': 4, ' - ': 4, 'бы': 4, 'плохой': 4, 'часы': 4, 'невозможно': 4, 'карта': 4, 'провод': 4, 'розетка': 4, 'теряться': 4, 'освещение': 3, 'магнитный': 3, 'никак': 3, 'ловить': 3, 'использовать': 3, 'подставка': 3, 'сам': 3, 'терять': 3, ')': 3, 'чтобы': 3, 'так': 3, 'все': 3, 'о': 3, 'видео': 3, '5': 3, 'отвратительный': 3, 'час': 3, 'стоить': 3, 'приходиться': 3, 'который': 3, 'wifi': 3, '-': 3, 'из': 3, '4': 3, 'звук': 3, 'температура': 3, 'память': 3, '/': 3, 'он': 3, 'по': 3, 'ужасный': 3, 'дороговатый': 3, 'нельзя': 3, 'музыка': 3, 'т': 3, 'кнопка': 3, 'несколько': 3, 'мочь': 3, '!': 3, ' , ': 3, 'отель': 3, 'разряжаться': 2, 'родительский': 2, 'просто': 2, 'легкий': 2, 'вероятность': 2, 'потерять': 2, 'уже': 2, 'раз': 2, 'когда': 2, 'кодак': 2, 'собственный': 2, 'никакой': 2, 'подключать': 2, 'автономный': 2, 'потому': 2, 'неудобно': 2, 'сделать': 2, 'вход': 2, 'удобный': 2, 'поворотный': 2, 'возможно': 2, 'уведомление': 2, 'ничто': 2, 'получаться': 2, 'трехкомнатный': 2, 'квартира': 2, 'месяц': 2, 'вообще': 2, 'покупать': 2, 'управление': 2, ' \"': 2, '\" ': 2, 'сигнал': 2, 'надо': 2, 'место': 2, 'хотеться': 2, 'более': 2, 'деньги': 2, 'малый': 2, 'радиус': 2, 'неудобный': 2, 'неудачный': 2, 'принимать': 2, 'делать': 2, 'скриншот': 2, 'делаться': 2, 'заявлять': 2, 'тот': 2, 'просить': 2, 'пластик': 2, 'метр': 2, 'д': 2, 'висеть': 2, 'другой': 2, 'бренд': 2, 'один': 2, 'выбирать': 2, 'батарейка': 2, 'работа': 2, 'глючать': 2, 'детский': 2, 'видеоняня': 2, 'практически': 2, 'садиться': 2, 'каждый': 2, 'день': 2, 'находиться': 2, 'темнота': 2, 'включать': 2, 'ночной': 2, 'много': 2, 'ночь': 2, 'становиться': 2, 'видно': 2, 'использование': 2, ') ': 2, 'режим': 2, 'функция': 2, 'соединение': 2, 'вы': 2, 'интернет': 2, 'smartcam': 2, 'дома': 2, 'чувствительный': 1, 'стильно': 1, 'сказать': 1, 'удобно': 1, 'скоро': 1, 'рябить': 1, 'тупой': 1, 'плохо': 1, 'некачественный': 1, 'чувство': 1, 'создание': 1, 'компонент': 1, 'идти': 1, 'отдельно': 1, 'монтировать': 1, 'тогда': 1, 'нужно': 1, 'придумывать': 1, 'ход': 1, 'почему': 1, 'важный': 1, 'пара': 1, 'особенно': 1, 'поиграть': 1, 'батарея': 1, 'допы': 1, 'устройство': 1, 'сзади': 1, 'ля': 1, 'причем': 1, 'круглый': 1, 'мой': 1, 'взгляд': 1, 'отличие': 1, 'сложноватый': 1, 'восприятие': 1, 'выполнять': 1, 'необычно': 1, 'большой': 1, 'ничего': 1, 'невозможность': 1, 'внешний': 1, 'источник': 1, 'питание': 1, 'держатель': 1, 'легко': 1, 'соглашаться': 1, 'ни': 1, 'матрица': 1, 'удешевлять': 1, 'продукт': 1, 'раздражать': 1, 'платный+': 1, 'регулярно': 1, 'приходить': 1, 'фотка': 1, 'шевелиться': 1, 'пытаться': 1, 'посмотреть': 1, 'дальний': 1, 'комната': 1, 'три': 1, 'тут': 1, 'передавать': 1, 'красный': 1, 'тон': 1, 'тормозить': 1, 'бейбивье': 1, 'отваливаться': 1, 'дисплей': 1, 'откровенно': 1, 'кривой': 1, 'держаться': 1, '3х': 1, 'тоненький': 1, 'контакт': 1, 'ощущение': 1, 'угол': 1, 'обзор': 1, 'вниз': 1, 'подкладывать': 1, 'кроватка': 1, 'низко': 1, 'уровень': 1, 'до': 1, 'основный': 1, 'всегда': 1, 'проходить': 1, '- ': 1, 'балкон': 1, 'кухня': 1, 'искать': 1, 'где': 1, 'поймать': 1, 'срабатывание': 1, 'детектор': 1, 'шум': 1, 'регулироваться': 1, 'два': 1, 'положение': 1, 'гибкий': 1, 'настройка': 1, 'разве': 1, 'единственный': 1, 'няня': 1, 'рынок': 1, 'компромиссный': 1, 'решение': 1, 'являться': 1, 'точка': 1, 'доступ': 1, 'действие': 1, 'клиент': 1, 'домашний': 1, 'включаться': 1, 'рулиться': 1, 'записывать': 1, 'новый': 1, 'встроенный': 1, 'мелодия': 1, 'убогий': 1, 'проигрывание': 1, 'ужасать': 1, 'хрип': 1, 'даже': 1, 'громкость': 1, 'звуковой': 1, 'тревога': 1, 'срабатывать': 1, 'жесть': 1, 'лягушка': 1, 'погасить': 1, 'зеленый': 1, 'индикатор': 1, 'воздух': 1, 'крайне': 1, 'подружиться': 1, '16gb': 1, '128gb': 1, 'отказываться': 1, 'пробовать': 1, 'fat32': 1, 'exfat': 1, 'ntfs': 1, '), ': 1, 'да': 1, 'ненужный': 1, 'карточка': 1, 'ведь': 1, 'почти': 1, 'уметь': 1, 'запись': 1, 'видеоролик': 1, 'расписание': 1, 'аж': 1, '1280': 1, '*': 1, '720': 1, 'забывать': 1, 'указывать': 1, 'прибор': 1, 'себя': 1, 'оправдывать': 1, 'sd': 1, 'комплект': 1, 'проигрывать': 1, 'действовать': 1, 'управлять': 1, 'вкл': 1, 'выкла': 1, 'свет': 1, 'высоковатый': 1, 'иметь': 1, 'возможность': 1, 'над': 1, 'голова': 1, 'решаться': 1, 'кусочек': 1, 'двусторонний': 1, 'скотч': 1, 'великоватый': 1, 'оно': 1, 'вариант': 1, 'судя': 1, 'отзыв': 1, 'скупой': 1, 'платить': 1, 'дважды': 1, 'завышать': 1, 'нерабочий': 1, 'учет': 1, 'инструкция': 1, 'написать': 1, 'тип': 1, 'аа': 1, 'факт': 1, 'ааа': 1, '. ': 1, 'энерчайзер': 1, 'съедать': 1, '2.5': 1, 'дешевенький': 1, 'тонкий': 1, 'орать': 1, 'полоумный': 1, 'перезагружать': 1, 'дача': 1, 'годиться': 1, 'совсем': 1, '150': 1, 'дальность': 1, 'прямой': 1, 'видимость': 1, 'без': 1, 'препятствие': 1, 'определенный': 1, 'проблема': 1, 'заказывать': 1, 'модель': 1, 'наличие': 1, 'сожаление': 1, 'ну': 1, 'правда': 1, 'сразу': 1, 'перезванивать': 1, 'предлагать': 1, 'аналогичный': 1, 'подумать': 1, 'взять': 1, 'полностью': 1, 'устраивать': 1, 'хорошо': 1, 'жаль': 1, 'свой': 1, 'отдельный': 1, 'подключение': 1, 'довольно': 1, 'заряжать': 1, '3': 1, 'выключение': 1, 'маленький': 1, 'между': 1, 'включение': 1, 'желать': 1, 'нажимать': 1, 'начинать': 1, 'играть': 1, 'просыпаться': 1, 'казаться': 1, 'слишком': 1, 'дорого': 1, 'фигня': 1, 'можно': 1, 'вызывать': 1, 'кошмар': 1, 'маловат': 1, 'относительно': 1, 'небольшой': 1, 'срок': 1, 'целый': 1, 'хватать': 1, 'любой': 1, 'момент': 1, 'отключаться': 1, 'недостаточный': 1, 'картина': 1, 'черный': 1, 'белый': 1, 'вполне': 1, 'гнездо': 1, 'vox': 1, 'потеря': 1, 'прием': 1, 'гореть': 1, 'лампочка': 1, 'умирать': 1, 'год': 1, 'неадекватный': 1, 'термометр': 1, 'некорректный': 1, 'отображать': 1, 'китай': 1, 'первый': 1, 'пойти': 1, 'дым': 1, 'опасный': 1, 'фиксироваться': 1, 'кроме': 1, 'настенный': 1, 'изгиб': 1, 'подвигать': 1, 'или': 1, 'уронить': 1, 'слабый': 1, 'держать': 1, 'неяркий': 1, 'ночник': 1, 'например': 1, 'спасать': 1, ' – ': 1, 'актуальный': 1, 'полный': 1, 'громко': 1, 'щелкать': 1, 'пропадать': 1, 'иногда': 1, 'выключать': 1, 'опять': 1, 'объемный': 1, 'везде': 1, 'вставать': 1, 'wi': 1, 'fi': 1, 'удаленный': 1, 'дополнительный': 1, 'теперь': 1, 'наболевший': 1, ': ': 1, 'сервер': 1, 'стоять': 1, 'заблокировать': 1, 'прийти': 1, 'понимать': 1, 'фирма': 1, 'sumsung': 1, 'сырой': 1, 'п': 1, 'портить': 1, 'репутация': 1, 'весь': 1, '!!!': 1, '!!': 1, 'наблюдать': 1, 'сначала': 1, 'минута': 1, 'далее': 1, 'покупка': 1, 'возврат': 1, 'мучение': 1, 'прекрасный': 1, ' -': 1, 'доисторический': 1, 'думать': 1, 'смочь': 1, 'вайфай': 1, 'распределяться': 1, 'привязка': 1, 'номер': 1, 'технически': 1, 'невозможный': 1, 'следить': 1, 'мобильный': 1, 'плюс': 1, 'жалеть': 1, 'купить': 1, 'обычный': 1, 'сейчас': 1, 'склоняться': 1, 'после': 1, 'обнова': 1, 'залетать': 1, '\\n': 1})\n"
     ]
    }
   ],
   "source": [
    "lemma = pd.read_csv('comment.csv')\n",
    "lemma['comments'] = lemma['comments'].str.lower()\n",
    "lemma.head(40)\n",
    "\n",
    "# импортируем нужные библиотеки для лемматизации\n",
    "# создаём функцию лемматизации\n",
    "from pymystem3 import Mystem\n",
    "from collections import Counter\n",
    "m = Mystem()\n",
    "def lemat (table):\n",
    "    m = Mystem()\n",
    "    data_purpose = table\n",
    "    row = ' '.join(data_purpose)\n",
    "    lemmas = m.lemmatize(row)\n",
    "    print(Counter(lemmas)) \n",
    "\n",
    "lemat(lemma['comments'])\n"
   ]
  },
  {
   "cell_type": "markdown",
   "metadata": {},
   "source": [
    "<font size=\"4\">*Мы получили все подсчитанные формы слов, но предствалены они не в очень понятном виде, поэтому напишем цикл, который представит одним списком самые популярные формы слов*</font>"
   ]
  },
  {
   "cell_type": "code",
   "execution_count": 37,
   "metadata": {},
   "outputs": [
    {
     "data": {
      "text/plain": [
       "11     приложение\n",
       "2      приложение\n",
       "0      приложение\n",
       "7        качество\n",
       "1        качество\n",
       "4     изображение\n",
       "5         зарядка\n",
       "3         зарядка\n",
       "6            None\n",
       "8            None\n",
       "9            None\n",
       "10           None\n",
       "Name: lemmas, dtype: object"
      ]
     },
     "execution_count": 37,
     "metadata": {},
     "output_type": "execute_result"
    }
   ],
   "source": [
    "def lemmas(problem):\n",
    "    lemmas_list = ' '.join(m.lemmatize(problem))\n",
    "    if 'прилож' in lemmas_list:\n",
    "        return 'приложение'\n",
    "    if ('качеств' or 'дешев') in lemmas_list:\n",
    "        return 'качество'\n",
    "    if ('изображ' or 'монит') in lemmas_list:\n",
    "        return 'изображение'\n",
    "    if ('заряд' or 'аккум') in lemmas_list:\n",
    "        return 'зарядка'\n",
    "    if ('датч' or 'связ') in lemmas_list:\n",
    "        return 'датчик'\n",
    "\n",
    "    #return lemmas_list\n",
    "\n",
    "lemma['lemmas'] = lemma['comments'].apply(lemmas)\n",
    "# С помощью Counter подсчитаем уникcaальные значения целей кредита\n",
    "# Добавим эти категории в столбец lemmas_purpose\n",
    "Counter(lemma['lemmas'])\n",
    "lemma['lemmas'].sort_values(ascending = False)"
   ]
  },
  {
   "cell_type": "markdown",
   "metadata": {},
   "source": [
    "<font size=\"4\"> Список самых популярных форм слов выглядит очень странно. Я так и не смог пофиксить эту проблему, но в целом можно понять с какими проблемами встречаются пользователи:</font>\n",
    "    \n",
    "        1. Возможные проблемы пользователей с приложением:\n",
    "        Большинство видеонянь сделаны в Китае, поэтому приложения могут быть только на китайском языке.\n",
    "        Не всегда оптимизируют работу приложений для камер, которые выпустились давно.\n",
    "        Иногда приложения приходится скачивать из сторонних источников, с этим у пользователей могут возникнуть проблемы.\n",
    "    \n",
    "        2. Возможные проблемы пользователей с качеством:\n",
    "        Большинство камер производятся в Китае, а как мы все знаем, Китай любит удешевлять свои товары,\n",
    "        используя некачественные материалы.\n",
    "        \n",
    "        3. Возможные проблемы пользователей с изображением:\n",
    "        Бывает и такое, что разрешение камеры заявлено одно, а на самом деле оно гораздо хуже.\n",
    "        В связи с этим пользователи могут жаловаться на изображение.\n",
    "        \n",
    "        4. Возможные проблемы пользователей с зарядкой:\n",
    "        Гнезда видеонянь бывают некачественные и быстро расшатываются, также может попасться брак.\n",
    "        Поэтому пользователю жалуются на проблемы с зарядкой      \n",
    "       \n",
    "    "
   ]
  },
  {
   "cell_type": "code",
   "execution_count": 38,
   "metadata": {},
   "outputs": [],
   "source": [
    "data_1 = data.query('phone_connection == 1')\n",
    "data_0 = data.query('phone_connection == 0')\n",
    "data_1['sum_parent_length_width'] = data_1[data_1['parent_size_width']> 0]['parent_size_width'] + data_1[data_1['parent_size_length']> 0]['parent_size_length']\n",
    "data_1['sum_child_length_width'] = data_1[data_1['child_size_width']> 0]['child_size_width'] + data_1['child_size_length']\n",
    "data_0['sum_child_length_width'] = data_0[data_0['child_size_width']> 0]['child_size_width'] + data_0['child_size_length']"
   ]
  },
  {
   "cell_type": "code",
   "execution_count": 39,
   "metadata": {
    "scrolled": false
   },
   "outputs": [
    {
     "data": {
      "text/html": [
       "<div>\n",
       "<style scoped>\n",
       "    .dataframe tbody tr th:only-of-type {\n",
       "        vertical-align: middle;\n",
       "    }\n",
       "\n",
       "    .dataframe tbody tr th {\n",
       "        vertical-align: top;\n",
       "    }\n",
       "\n",
       "    .dataframe thead th {\n",
       "        text-align: right;\n",
       "    }\n",
       "</style>\n",
       "<table border=\"1\" class=\"dataframe\">\n",
       "  <thead>\n",
       "    <tr style=\"text-align: right;\">\n",
       "      <th></th>\n",
       "      <th>user_rating</th>\n",
       "      <th>price</th>\n",
       "      <th>sum_parent_length_width</th>\n",
       "      <th>weight</th>\n",
       "    </tr>\n",
       "  </thead>\n",
       "  <tbody>\n",
       "    <tr>\n",
       "      <th>user_rating</th>\n",
       "      <td>1.000000</td>\n",
       "      <td>-0.310318</td>\n",
       "      <td>0.064429</td>\n",
       "      <td>-0.585937</td>\n",
       "    </tr>\n",
       "    <tr>\n",
       "      <th>price</th>\n",
       "      <td>-0.310318</td>\n",
       "      <td>1.000000</td>\n",
       "      <td>0.095442</td>\n",
       "      <td>0.465854</td>\n",
       "    </tr>\n",
       "    <tr>\n",
       "      <th>sum_parent_length_width</th>\n",
       "      <td>0.064429</td>\n",
       "      <td>0.095442</td>\n",
       "      <td>1.000000</td>\n",
       "      <td>-0.037598</td>\n",
       "    </tr>\n",
       "    <tr>\n",
       "      <th>weight</th>\n",
       "      <td>-0.585937</td>\n",
       "      <td>0.465854</td>\n",
       "      <td>-0.037598</td>\n",
       "      <td>1.000000</td>\n",
       "    </tr>\n",
       "  </tbody>\n",
       "</table>\n",
       "</div>"
      ],
      "text/plain": [
       "                         user_rating     price  sum_parent_length_width  \\\n",
       "user_rating                 1.000000 -0.310318                 0.064429   \n",
       "price                      -0.310318  1.000000                 0.095442   \n",
       "sum_parent_length_width     0.064429  0.095442                 1.000000   \n",
       "weight                     -0.585937  0.465854                -0.037598   \n",
       "\n",
       "                           weight  \n",
       "user_rating             -0.585937  \n",
       "price                    0.465854  \n",
       "sum_parent_length_width -0.037598  \n",
       "weight                   1.000000  "
      ]
     },
     "execution_count": 39,
     "metadata": {},
     "output_type": "execute_result"
    }
   ],
   "source": [
    "data_1_cor = data_1[['user_rating', 'price', 'sum_parent_length_width', 'weight']].query('user_rating > 0 & price > 0 & sum_parent_length_width > 0')\n",
    "data_1_cor.corr()"
   ]
  },
  {
   "cell_type": "markdown",
   "metadata": {},
   "source": [
    "<font size=\"4\"> **Вывод по таблице корреляции:**</font>\n",
    "* Зависимость user_rating (sum_parent_length_width) ~ 0.06 (корреляции нет)\n",
    "* Зависимость user_rating (price) ~ -0.31 (что говорит о том, что есть обратная слабая зависимость)\n",
    "* Зависимость sum_parent_length_width (price) ~ 0.1 (очень слабая статистическая зависимость)\n",
    "* Зависимость weight (price) ~ 0.47 (слабая статистическая зависимость, но близка к средней)\n",
    "\n",
    "<font size=\"4\">**Итог:**</font>\n",
    "1. Размер не зависит от цены\n",
    "2. Рейтинг слабо зависит от цены, чем выше цена, тем ниже рейтинг \n",
    "3. Вес слабо зависит от цены, но близок к средней зависимости(Можно предположить, что чем выше цена, тем материалы устройства качественней => легче)"
   ]
  },
  {
   "cell_type": "markdown",
   "metadata": {},
   "source": [
    "# Выбрать для заказчика устройство с главным критерием 'миниатюрность' <a name=\"stage_4\"></a>"
   ]
  },
  {
   "cell_type": "code",
   "execution_count": 40,
   "metadata": {},
   "outputs": [],
   "source": [
    "#data[['name','price', 'parent_size_width', 'parent_size_length', 'child_size_width', 'child_size_length', 'phone_connection']].query('phone_connection == 1').sort_values(by = ['parent_size_width', 'parent_size_length', 'child_size_width', 'child_size_length'])"
   ]
  },
  {
   "cell_type": "markdown",
   "metadata": {},
   "source": [
    "  <font size=\"6\">Анализ устройств с подключением к телефону</font>(data_0)"
   ]
  },
  {
   "cell_type": "code",
   "execution_count": 41,
   "metadata": {},
   "outputs": [
    {
     "data": {
      "text/html": [
       "<div>\n",
       "<style scoped>\n",
       "    .dataframe tbody tr th:only-of-type {\n",
       "        vertical-align: middle;\n",
       "    }\n",
       "\n",
       "    .dataframe tbody tr th {\n",
       "        vertical-align: top;\n",
       "    }\n",
       "\n",
       "    .dataframe thead th {\n",
       "        text-align: right;\n",
       "    }\n",
       "</style>\n",
       "<table border=\"1\" class=\"dataframe\">\n",
       "  <thead>\n",
       "    <tr style=\"text-align: right;\">\n",
       "      <th></th>\n",
       "      <th>name</th>\n",
       "      <th>price</th>\n",
       "      <th>sum_child_length_width</th>\n",
       "    </tr>\n",
       "  </thead>\n",
       "  <tbody>\n",
       "    <tr>\n",
       "      <th>29</th>\n",
       "      <td>iBaby Monitor M2</td>\n",
       "      <td>10490</td>\n",
       "      <td>152.0</td>\n",
       "    </tr>\n",
       "    <tr>\n",
       "      <th>23</th>\n",
       "      <td>Wi-Fi Wisenet SmartCam SNH-V6410PN</td>\n",
       "      <td>9990</td>\n",
       "      <td>169.0</td>\n",
       "    </tr>\n",
       "    <tr>\n",
       "      <th>33</th>\n",
       "      <td>Miniland Digimonitor 3.5 plus</td>\n",
       "      <td>19500</td>\n",
       "      <td>175.0</td>\n",
       "    </tr>\n",
       "    <tr>\n",
       "      <th>20</th>\n",
       "      <td>Alcatel IPC-21FX</td>\n",
       "      <td>14650</td>\n",
       "      <td>186.0</td>\n",
       "    </tr>\n",
       "    <tr>\n",
       "      <th>5</th>\n",
       "      <td>Miniland everywhere IPcam</td>\n",
       "      <td>9380</td>\n",
       "      <td>196.0</td>\n",
       "    </tr>\n",
       "    <tr>\n",
       "      <th>28</th>\n",
       "      <td>Samsung SmartCam SNH-C6417BN</td>\n",
       "      <td>10390</td>\n",
       "      <td>220.0</td>\n",
       "    </tr>\n",
       "    <tr>\n",
       "      <th>9</th>\n",
       "      <td>Miniland Spin IP Camera</td>\n",
       "      <td>12880</td>\n",
       "      <td>230.0</td>\n",
       "    </tr>\n",
       "    <tr>\n",
       "      <th>12</th>\n",
       "      <td>Ramili Baby RV1300</td>\n",
       "      <td>14990</td>\n",
       "      <td>250.0</td>\n",
       "    </tr>\n",
       "    <tr>\n",
       "      <th>27</th>\n",
       "      <td>iBaby Monitor M6</td>\n",
       "      <td>9990</td>\n",
       "      <td>268.0</td>\n",
       "    </tr>\n",
       "    <tr>\n",
       "      <th>24</th>\n",
       "      <td>Link-NC21G-8GS</td>\n",
       "      <td>10000</td>\n",
       "      <td>270.0</td>\n",
       "    </tr>\n",
       "  </tbody>\n",
       "</table>\n",
       "</div>"
      ],
      "text/plain": [
       "                                  name  price  sum_child_length_width\n",
       "29                    iBaby Monitor M2  10490                   152.0\n",
       "23  Wi-Fi Wisenet SmartCam SNH-V6410PN   9990                   169.0\n",
       "33       Miniland Digimonitor 3.5 plus  19500                   175.0\n",
       "20                    Alcatel IPC-21FX  14650                   186.0\n",
       "5            Miniland everywhere IPcam   9380                   196.0\n",
       "28        Samsung SmartCam SNH-C6417BN  10390                   220.0\n",
       "9              Miniland Spin IP Camera  12880                   230.0\n",
       "12                  Ramili Baby RV1300  14990                   250.0\n",
       "27                    iBaby Monitor M6   9990                   268.0\n",
       "24                      Link-NC21G-8GS  10000                   270.0"
      ]
     },
     "execution_count": 41,
     "metadata": {},
     "output_type": "execute_result"
    }
   ],
   "source": [
    "data_0[['name','price', 'sum_child_length_width']].sort_values(by = ['sum_child_length_width', 'price'])"
   ]
  },
  {
   "cell_type": "code",
   "execution_count": 42,
   "metadata": {},
   "outputs": [
    {
     "data": {
      "image/png": "[encoded data removed]",
      "text/plain": [
       "<Figure size 1080x576 with 1 Axes>"
      ]
     },
     "metadata": {
      "needs_background": "light"
     },
     "output_type": "display_data"
    }
   ],
   "source": [
    "data_0[data_0['sum_child_length_width'] > 0].pivot_table(index = 'name', values = 'sum_child_length_width', aggfunc = 'sum').sort_values(ascending=True, by = 'sum_child_length_width').plot(kind = 'bar', figsize=(15,8),title=\"Сортировка камер_0 в порядке возрастания по сумме высоты и ширины\");"
   ]
  },
  {
   "cell_type": "code",
   "execution_count": 43,
   "metadata": {},
   "outputs": [],
   "source": [
    "data_0_win_sum = data_0.query('sum_child_length_width < 220')"
   ]
  },
  {
   "cell_type": "markdown",
   "metadata": {},
   "source": [
    "<font size=\"4\"> Делаем срез видеонянь **меньше 220 по параметру 'sum_child_length_width'**"
   ]
  },
  {
   "cell_type": "code",
   "execution_count": 44,
   "metadata": {},
   "outputs": [
    {
     "data": {
      "image/png": "[encoded data removed]",
      "text/plain": [
       "<Figure size 1080x576 with 1 Axes>"
      ]
     },
     "metadata": {
      "needs_background": "light"
     },
     "output_type": "display_data"
    }
   ],
   "source": [
    "data_0_win_sum[data_0_win_sum['sum_child_length_width'] > 0].pivot_table(index = 'name', values = 'price', aggfunc = 'sum').sort_values(ascending=True, by = 'price').plot(kind = 'bar', figsize=(15,8),title=\"Сортировка камер_0 в порядке возрастания по цене\");"
   ]
  },
  {
   "cell_type": "code",
   "execution_count": 45,
   "metadata": {},
   "outputs": [],
   "source": [
    "data_0_win_price = data_0_win_sum.query('price < 16000')"
   ]
  },
  {
   "cell_type": "markdown",
   "metadata": {},
   "source": [
    "<font size=\"4\"> Делаем срез видеонянь_0 **меньше 16000 по параметру 'price'**"
   ]
  },
  {
   "cell_type": "code",
   "execution_count": 46,
   "metadata": {},
   "outputs": [
    {
     "data": {
      "image/png": "[encoded data removed]",
      "text/plain": [
       "<Figure size 1080x576 with 1 Axes>"
      ]
     },
     "metadata": {
      "needs_background": "light"
     },
     "output_type": "display_data"
    }
   ],
   "source": [
    "data_0_win_price[data_0_win_price['sum_child_length_width'] > 0].pivot_table(index = 'name', values = 'weight', aggfunc = 'sum').sort_values(ascending=True, by = 'weight').plot(kind = 'bar', figsize=(15,8),title=\"Сортировка камер_0 в порядке возрастания по весу\", fontsize=10);"
   ]
  },
  {
   "cell_type": "code",
   "execution_count": 47,
   "metadata": {},
   "outputs": [],
   "source": [
    "data_0_win_weight = data_0_win_price.query('weight < 200')\n",
    "#data_0_win_weight\n",
    "#data_0_win_weight[data_0_win_weight['battery_life'] > 0]"
   ]
  },
  {
   "cell_type": "markdown",
   "metadata": {},
   "source": [
    "<font size=\"4\"> Делаем срез видеонянь_0 **меньше 200 по параметру 'weight'**</font>"
   ]
  },
  {
   "cell_type": "code",
   "execution_count": 48,
   "metadata": {},
   "outputs": [
    {
     "data": {
      "text/html": [
       "<div>\n",
       "<style scoped>\n",
       "    .dataframe tbody tr th:only-of-type {\n",
       "        vertical-align: middle;\n",
       "    }\n",
       "\n",
       "    .dataframe tbody tr th {\n",
       "        vertical-align: top;\n",
       "    }\n",
       "\n",
       "    .dataframe thead th {\n",
       "        text-align: right;\n",
       "    }\n",
       "</style>\n",
       "<table border=\"1\" class=\"dataframe\">\n",
       "  <thead>\n",
       "    <tr style=\"text-align: right;\">\n",
       "      <th></th>\n",
       "      <th>name</th>\n",
       "      <th>price</th>\n",
       "      <th>user_rating</th>\n",
       "      <th>region</th>\n",
       "      <th>range_inside</th>\n",
       "      <th>range_outside</th>\n",
       "      <th>phone_connection</th>\n",
       "      <th>resolution</th>\n",
       "      <th>count_connection_type</th>\n",
       "      <th>connection_type</th>\n",
       "      <th>display</th>\n",
       "      <th>battery_life</th>\n",
       "      <th>child_size_width</th>\n",
       "      <th>child_size_length</th>\n",
       "      <th>parent_size_width</th>\n",
       "      <th>parent_size_length</th>\n",
       "      <th>weight</th>\n",
       "      <th>resolution_count</th>\n",
       "      <th>sum_child_length_width</th>\n",
       "    </tr>\n",
       "  </thead>\n",
       "  <tbody>\n",
       "    <tr>\n",
       "      <th>20</th>\n",
       "      <td>Alcatel IPC-21FX</td>\n",
       "      <td>14650</td>\n",
       "      <td>4.0</td>\n",
       "      <td>Китай</td>\n",
       "      <td>-1.0</td>\n",
       "      <td>-1.0</td>\n",
       "      <td>0</td>\n",
       "      <td>1280x720</td>\n",
       "      <td>4.0</td>\n",
       "      <td>Wi-Fi</td>\n",
       "      <td>NaN</td>\n",
       "      <td>50</td>\n",
       "      <td>56.0</td>\n",
       "      <td>130.0</td>\n",
       "      <td>-1.0</td>\n",
       "      <td>-1.0</td>\n",
       "      <td>117.0</td>\n",
       "      <td>7.0</td>\n",
       "      <td>186.0</td>\n",
       "    </tr>\n",
       "    <tr>\n",
       "      <th>23</th>\n",
       "      <td>Wi-Fi Wisenet SmartCam SNH-V6410PN</td>\n",
       "      <td>9990</td>\n",
       "      <td>4.5</td>\n",
       "      <td>Южная Корея</td>\n",
       "      <td>100.0</td>\n",
       "      <td>200.0</td>\n",
       "      <td>0</td>\n",
       "      <td>1920x1080</td>\n",
       "      <td>NaN</td>\n",
       "      <td>Wi-Fi</td>\n",
       "      <td>NaN</td>\n",
       "      <td>-1</td>\n",
       "      <td>84.0</td>\n",
       "      <td>85.0</td>\n",
       "      <td>-1.0</td>\n",
       "      <td>-1.0</td>\n",
       "      <td>155.0</td>\n",
       "      <td>9.0</td>\n",
       "      <td>169.0</td>\n",
       "    </tr>\n",
       "    <tr>\n",
       "      <th>29</th>\n",
       "      <td>iBaby Monitor M2</td>\n",
       "      <td>10490</td>\n",
       "      <td>4.0</td>\n",
       "      <td>США</td>\n",
       "      <td>50.0</td>\n",
       "      <td>200.0</td>\n",
       "      <td>0</td>\n",
       "      <td>640x480</td>\n",
       "      <td>40.0</td>\n",
       "      <td>Wi-Fi</td>\n",
       "      <td>NaN</td>\n",
       "      <td>3</td>\n",
       "      <td>76.0</td>\n",
       "      <td>76.0</td>\n",
       "      <td>-1.0</td>\n",
       "      <td>-1.0</td>\n",
       "      <td>150.0</td>\n",
       "      <td>6.0</td>\n",
       "      <td>152.0</td>\n",
       "    </tr>\n",
       "  </tbody>\n",
       "</table>\n",
       "</div>"
      ],
      "text/plain": [
       "                                  name  price  user_rating       region  \\\n",
       "20                    Alcatel IPC-21FX  14650          4.0        Китай   \n",
       "23  Wi-Fi Wisenet SmartCam SNH-V6410PN   9990          4.5  Южная Корея   \n",
       "29                    iBaby Monitor M2  10490          4.0          США   \n",
       "\n",
       "    range_inside  range_outside  phone_connection resolution  \\\n",
       "20          -1.0           -1.0                 0   1280x720   \n",
       "23         100.0          200.0                 0  1920x1080   \n",
       "29          50.0          200.0                 0    640x480   \n",
       "\n",
       "    count_connection_type connection_type  display  battery_life  \\\n",
       "20                    4.0           Wi-Fi      NaN            50   \n",
       "23                    NaN           Wi-Fi      NaN            -1   \n",
       "29                   40.0           Wi-Fi      NaN             3   \n",
       "\n",
       "    child_size_width  child_size_length  parent_size_width  \\\n",
       "20              56.0              130.0               -1.0   \n",
       "23              84.0               85.0               -1.0   \n",
       "29              76.0               76.0               -1.0   \n",
       "\n",
       "    parent_size_length  weight  resolution_count  sum_child_length_width  \n",
       "20                -1.0   117.0               7.0                   186.0  \n",
       "23                -1.0   155.0               9.0                   169.0  \n",
       "29                -1.0   150.0               6.0                   152.0  "
      ]
     },
     "execution_count": 48,
     "metadata": {},
     "output_type": "execute_result"
    }
   ],
   "source": [
    "data_0_win_weight"
   ]
  },
  {
   "cell_type": "markdown",
   "metadata": {},
   "source": [
    "<font size=\"4\"> Вывод: однозначные победители среди **аккумуляторных** видеонянь_0(только с подключением к телефону) по критериям - **размер, цена, вес**</font>"
   ]
  },
  {
   "cell_type": "code",
   "execution_count": 49,
   "metadata": {},
   "outputs": [
    {
     "data": {
      "image/png": "[encoded data removed]",
      "text/plain": [
       "<Figure size 1080x576 with 1 Axes>"
      ]
     },
     "metadata": {
      "needs_background": "light"
     },
     "output_type": "display_data"
    }
   ],
   "source": [
    "data_0_win_weight[data_0_win_weight['battery_life'] > 0].pivot_table(index = 'name', values = 'battery_life', aggfunc = 'sum').sort_values(ascending=True, by = 'battery_life').plot(kind = 'bar', figsize=(15,8),title=\"Сортировка камер_0 с аккумулятором в порядке возрастания по времени работы батареи\");"
   ]
  },
  {
   "cell_type": "code",
   "execution_count": 50,
   "metadata": {},
   "outputs": [],
   "source": [
    "data_0_win_weight['battery_life'] = data_0_win_weight['battery_life'].astype('float64')\n",
    "data_0_win_battery_life = data_0_win_weight.query('battery_life > 5')"
   ]
  },
  {
   "cell_type": "markdown",
   "metadata": {},
   "source": [
    "<font size=\"4\"> Делаем срез видеонянь_0 **больше 5 по параметру 'battery_life'**</font>"
   ]
  },
  {
   "cell_type": "code",
   "execution_count": 51,
   "metadata": {},
   "outputs": [
    {
     "data": {
      "text/html": [
       "<div>\n",
       "<style scoped>\n",
       "    .dataframe tbody tr th:only-of-type {\n",
       "        vertical-align: middle;\n",
       "    }\n",
       "\n",
       "    .dataframe tbody tr th {\n",
       "        vertical-align: top;\n",
       "    }\n",
       "\n",
       "    .dataframe thead th {\n",
       "        text-align: right;\n",
       "    }\n",
       "</style>\n",
       "<table border=\"1\" class=\"dataframe\">\n",
       "  <thead>\n",
       "    <tr style=\"text-align: right;\">\n",
       "      <th></th>\n",
       "      <th>name</th>\n",
       "      <th>price</th>\n",
       "      <th>user_rating</th>\n",
       "      <th>region</th>\n",
       "      <th>range_inside</th>\n",
       "      <th>range_outside</th>\n",
       "      <th>phone_connection</th>\n",
       "      <th>resolution</th>\n",
       "      <th>count_connection_type</th>\n",
       "      <th>connection_type</th>\n",
       "      <th>display</th>\n",
       "      <th>battery_life</th>\n",
       "      <th>child_size_width</th>\n",
       "      <th>child_size_length</th>\n",
       "      <th>parent_size_width</th>\n",
       "      <th>parent_size_length</th>\n",
       "      <th>weight</th>\n",
       "      <th>resolution_count</th>\n",
       "      <th>sum_child_length_width</th>\n",
       "    </tr>\n",
       "  </thead>\n",
       "  <tbody>\n",
       "    <tr>\n",
       "      <th>20</th>\n",
       "      <td>Alcatel IPC-21FX</td>\n",
       "      <td>14650</td>\n",
       "      <td>4.0</td>\n",
       "      <td>Китай</td>\n",
       "      <td>-1.0</td>\n",
       "      <td>-1.0</td>\n",
       "      <td>0</td>\n",
       "      <td>1280x720</td>\n",
       "      <td>4.0</td>\n",
       "      <td>Wi-Fi</td>\n",
       "      <td>NaN</td>\n",
       "      <td>50.0</td>\n",
       "      <td>56.0</td>\n",
       "      <td>130.0</td>\n",
       "      <td>-1.0</td>\n",
       "      <td>-1.0</td>\n",
       "      <td>117.0</td>\n",
       "      <td>7.0</td>\n",
       "      <td>186.0</td>\n",
       "    </tr>\n",
       "  </tbody>\n",
       "</table>\n",
       "</div>"
      ],
      "text/plain": [
       "                name  price  user_rating region  range_inside  range_outside  \\\n",
       "20  Alcatel IPC-21FX  14650          4.0  Китай          -1.0           -1.0   \n",
       "\n",
       "    phone_connection resolution  count_connection_type connection_type  \\\n",
       "20                 0   1280x720                    4.0           Wi-Fi   \n",
       "\n",
       "    display  battery_life  child_size_width  child_size_length  \\\n",
       "20      NaN          50.0              56.0              130.0   \n",
       "\n",
       "    parent_size_width  parent_size_length  weight  resolution_count  \\\n",
       "20               -1.0                -1.0   117.0               7.0   \n",
       "\n",
       "    sum_child_length_width  \n",
       "20                   186.0  "
      ]
     },
     "execution_count": 51,
     "metadata": {},
     "output_type": "execute_result"
    }
   ],
   "source": [
    "data_0_win_battery_life"
   ]
  },
  {
   "cell_type": "markdown",
   "metadata": {},
   "source": [
    "<font size=\"4\"> Вывод: однозначный победитель среди **аккумуляторных** видеонянь_0 по критериям - **размер, цена, вес, автономность**</font>"
   ]
  },
  {
   "cell_type": "code",
   "execution_count": 52,
   "metadata": {},
   "outputs": [
    {
     "data": {
      "text/html": [
       "<div>\n",
       "<style scoped>\n",
       "    .dataframe tbody tr th:only-of-type {\n",
       "        vertical-align: middle;\n",
       "    }\n",
       "\n",
       "    .dataframe tbody tr th {\n",
       "        vertical-align: top;\n",
       "    }\n",
       "\n",
       "    .dataframe thead th {\n",
       "        text-align: right;\n",
       "    }\n",
       "</style>\n",
       "<table border=\"1\" class=\"dataframe\">\n",
       "  <thead>\n",
       "    <tr style=\"text-align: right;\">\n",
       "      <th></th>\n",
       "      <th>name</th>\n",
       "      <th>price</th>\n",
       "      <th>user_rating</th>\n",
       "      <th>region</th>\n",
       "      <th>range_inside</th>\n",
       "      <th>range_outside</th>\n",
       "      <th>phone_connection</th>\n",
       "      <th>resolution</th>\n",
       "      <th>count_connection_type</th>\n",
       "      <th>connection_type</th>\n",
       "      <th>display</th>\n",
       "      <th>battery_life</th>\n",
       "      <th>child_size_width</th>\n",
       "      <th>child_size_length</th>\n",
       "      <th>parent_size_width</th>\n",
       "      <th>parent_size_length</th>\n",
       "      <th>weight</th>\n",
       "      <th>resolution_count</th>\n",
       "      <th>sum_child_length_width</th>\n",
       "    </tr>\n",
       "  </thead>\n",
       "  <tbody>\n",
       "    <tr>\n",
       "      <th>23</th>\n",
       "      <td>Wi-Fi Wisenet SmartCam SNH-V6410PN</td>\n",
       "      <td>9990</td>\n",
       "      <td>4.5</td>\n",
       "      <td>Южная Корея</td>\n",
       "      <td>100.0</td>\n",
       "      <td>200.0</td>\n",
       "      <td>0</td>\n",
       "      <td>1920x1080</td>\n",
       "      <td>NaN</td>\n",
       "      <td>Wi-Fi</td>\n",
       "      <td>NaN</td>\n",
       "      <td>-1.0</td>\n",
       "      <td>84.0</td>\n",
       "      <td>85.0</td>\n",
       "      <td>-1.0</td>\n",
       "      <td>-1.0</td>\n",
       "      <td>155.0</td>\n",
       "      <td>9.0</td>\n",
       "      <td>169.0</td>\n",
       "    </tr>\n",
       "  </tbody>\n",
       "</table>\n",
       "</div>"
      ],
      "text/plain": [
       "                                  name  price  user_rating       region  \\\n",
       "23  Wi-Fi Wisenet SmartCam SNH-V6410PN   9990          4.5  Южная Корея   \n",
       "\n",
       "    range_inside  range_outside  phone_connection resolution  \\\n",
       "23         100.0          200.0                 0  1920x1080   \n",
       "\n",
       "    count_connection_type connection_type  display  battery_life  \\\n",
       "23                    NaN           Wi-Fi      NaN          -1.0   \n",
       "\n",
       "    child_size_width  child_size_length  parent_size_width  \\\n",
       "23              84.0               85.0               -1.0   \n",
       "\n",
       "    parent_size_length  weight  resolution_count  sum_child_length_width  \n",
       "23                -1.0   155.0               9.0                   169.0  "
      ]
     },
     "execution_count": 52,
     "metadata": {},
     "output_type": "execute_result"
    }
   ],
   "source": [
    "data_0_win_weight[data_0_win_weight['battery_life'] == -1]"
   ]
  },
  {
   "cell_type": "markdown",
   "metadata": {},
   "source": [
    "<font size=\"4\">Вывод: однозначный победитель среди видеонянь_0 **от сети или на батарейках** по критериям - **размер, цена, вес, автономность**</font>"
   ]
  },
  {
   "cell_type": "code",
   "execution_count": 53,
   "metadata": {},
   "outputs": [
    {
     "data": {
      "image/png": "[encoded data removed]",
      "text/plain": [
       "<Figure size 1080x576 with 1 Axes>"
      ]
     },
     "metadata": {
      "needs_background": "light"
     },
     "output_type": "display_data"
    }
   ],
   "source": [
    "data_0_win_weight[data_0_win_weight['battery_life'] > 0].pivot_table(index = 'name', values = 'resolution_count', aggfunc = 'sum').sort_values(ascending=True, by = 'resolution_count').plot(kind = 'bar', figsize=(15,8),title=\"Сортировка камер_0 с аккумулятором в порядке возрастания по времени работы батареи\");"
   ]
  },
  {
   "cell_type": "code",
   "execution_count": 54,
   "metadata": {},
   "outputs": [
    {
     "data": {
      "text/html": [
       "<div>\n",
       "<style scoped>\n",
       "    .dataframe tbody tr th:only-of-type {\n",
       "        vertical-align: middle;\n",
       "    }\n",
       "\n",
       "    .dataframe tbody tr th {\n",
       "        vertical-align: top;\n",
       "    }\n",
       "\n",
       "    .dataframe thead th {\n",
       "        text-align: right;\n",
       "    }\n",
       "</style>\n",
       "<table border=\"1\" class=\"dataframe\">\n",
       "  <thead>\n",
       "    <tr style=\"text-align: right;\">\n",
       "      <th></th>\n",
       "      <th>name</th>\n",
       "      <th>price</th>\n",
       "      <th>user_rating</th>\n",
       "      <th>region</th>\n",
       "      <th>range_inside</th>\n",
       "      <th>range_outside</th>\n",
       "      <th>phone_connection</th>\n",
       "      <th>resolution</th>\n",
       "      <th>count_connection_type</th>\n",
       "      <th>connection_type</th>\n",
       "      <th>display</th>\n",
       "      <th>battery_life</th>\n",
       "      <th>child_size_width</th>\n",
       "      <th>child_size_length</th>\n",
       "      <th>parent_size_width</th>\n",
       "      <th>parent_size_length</th>\n",
       "      <th>weight</th>\n",
       "      <th>resolution_count</th>\n",
       "      <th>sum_child_length_width</th>\n",
       "    </tr>\n",
       "  </thead>\n",
       "  <tbody>\n",
       "    <tr>\n",
       "      <th>20</th>\n",
       "      <td>Alcatel IPC-21FX</td>\n",
       "      <td>14650</td>\n",
       "      <td>4.0</td>\n",
       "      <td>Китай</td>\n",
       "      <td>-1.0</td>\n",
       "      <td>-1.0</td>\n",
       "      <td>0</td>\n",
       "      <td>1280x720</td>\n",
       "      <td>4.0</td>\n",
       "      <td>Wi-Fi</td>\n",
       "      <td>NaN</td>\n",
       "      <td>50.0</td>\n",
       "      <td>56.0</td>\n",
       "      <td>130.0</td>\n",
       "      <td>-1.0</td>\n",
       "      <td>-1.0</td>\n",
       "      <td>117.0</td>\n",
       "      <td>7.0</td>\n",
       "      <td>186.0</td>\n",
       "    </tr>\n",
       "  </tbody>\n",
       "</table>\n",
       "</div>"
      ],
      "text/plain": [
       "                name  price  user_rating region  range_inside  range_outside  \\\n",
       "20  Alcatel IPC-21FX  14650          4.0  Китай          -1.0           -1.0   \n",
       "\n",
       "    phone_connection resolution  count_connection_type connection_type  \\\n",
       "20                 0   1280x720                    4.0           Wi-Fi   \n",
       "\n",
       "    display  battery_life  child_size_width  child_size_length  \\\n",
       "20      NaN          50.0              56.0              130.0   \n",
       "\n",
       "    parent_size_width  parent_size_length  weight  resolution_count  \\\n",
       "20               -1.0                -1.0   117.0               7.0   \n",
       "\n",
       "    sum_child_length_width  \n",
       "20                   186.0  "
      ]
     },
     "execution_count": 54,
     "metadata": {},
     "output_type": "execute_result"
    }
   ],
   "source": [
    "data_0_win_resolution = data_0_win_weight[data_0_win_weight['battery_life'] > 0]\n",
    "data_0_win_resolution[data_0_win_resolution['resolution_count'] > 6]"
   ]
  },
  {
   "cell_type": "markdown",
   "metadata": {},
   "source": [
    "<font size=\"4\"> Вывод: однозначный победитель среди видеонянь_0 на **аккумуляторах** по критериям - **размер, цена, вес, разрешение.**</font>"
   ]
  },
  {
   "cell_type": "code",
   "execution_count": 55,
   "metadata": {},
   "outputs": [
    {
     "data": {
      "text/html": [
       "<div>\n",
       "<style scoped>\n",
       "    .dataframe tbody tr th:only-of-type {\n",
       "        vertical-align: middle;\n",
       "    }\n",
       "\n",
       "    .dataframe tbody tr th {\n",
       "        vertical-align: top;\n",
       "    }\n",
       "\n",
       "    .dataframe thead th {\n",
       "        text-align: right;\n",
       "    }\n",
       "</style>\n",
       "<table border=\"1\" class=\"dataframe\">\n",
       "  <thead>\n",
       "    <tr style=\"text-align: right;\">\n",
       "      <th></th>\n",
       "      <th>name</th>\n",
       "      <th>price</th>\n",
       "      <th>user_rating</th>\n",
       "      <th>region</th>\n",
       "      <th>range_inside</th>\n",
       "      <th>range_outside</th>\n",
       "      <th>phone_connection</th>\n",
       "      <th>resolution</th>\n",
       "      <th>count_connection_type</th>\n",
       "      <th>connection_type</th>\n",
       "      <th>display</th>\n",
       "      <th>battery_life</th>\n",
       "      <th>child_size_width</th>\n",
       "      <th>child_size_length</th>\n",
       "      <th>parent_size_width</th>\n",
       "      <th>parent_size_length</th>\n",
       "      <th>weight</th>\n",
       "      <th>resolution_count</th>\n",
       "      <th>sum_child_length_width</th>\n",
       "    </tr>\n",
       "  </thead>\n",
       "  <tbody>\n",
       "    <tr>\n",
       "      <th>23</th>\n",
       "      <td>Wi-Fi Wisenet SmartCam SNH-V6410PN</td>\n",
       "      <td>9990</td>\n",
       "      <td>4.5</td>\n",
       "      <td>Южная Корея</td>\n",
       "      <td>100.0</td>\n",
       "      <td>200.0</td>\n",
       "      <td>0</td>\n",
       "      <td>1920x1080</td>\n",
       "      <td>NaN</td>\n",
       "      <td>Wi-Fi</td>\n",
       "      <td>NaN</td>\n",
       "      <td>-1.0</td>\n",
       "      <td>84.0</td>\n",
       "      <td>85.0</td>\n",
       "      <td>-1.0</td>\n",
       "      <td>-1.0</td>\n",
       "      <td>155.0</td>\n",
       "      <td>9.0</td>\n",
       "      <td>169.0</td>\n",
       "    </tr>\n",
       "  </tbody>\n",
       "</table>\n",
       "</div>"
      ],
      "text/plain": [
       "                                  name  price  user_rating       region  \\\n",
       "23  Wi-Fi Wisenet SmartCam SNH-V6410PN   9990          4.5  Южная Корея   \n",
       "\n",
       "    range_inside  range_outside  phone_connection resolution  \\\n",
       "23         100.0          200.0                 0  1920x1080   \n",
       "\n",
       "    count_connection_type connection_type  display  battery_life  \\\n",
       "23                    NaN           Wi-Fi      NaN          -1.0   \n",
       "\n",
       "    child_size_width  child_size_length  parent_size_width  \\\n",
       "23              84.0               85.0               -1.0   \n",
       "\n",
       "    parent_size_length  weight  resolution_count  sum_child_length_width  \n",
       "23                -1.0   155.0               9.0                   169.0  "
      ]
     },
     "execution_count": 55,
     "metadata": {},
     "output_type": "execute_result"
    }
   ],
   "source": [
    "data_0_win_resolution_AAA = data_0_win_weight[data_0_win_weight['battery_life'] == -1]\n",
    "data_0_win_resolution_AAA"
   ]
  },
  {
   "cell_type": "markdown",
   "metadata": {},
   "source": [
    "<font size=\"4\"> Вывод: однозначный победитель среди видеонянь_0 **на батарейках или от сети** по критерию - **размер, цена, вес, разрешение.**</font>\n"
   ]
  },
  {
   "cell_type": "markdown",
   "metadata": {},
   "source": [
    "  <font size=\"6\">Анализ устройств без подключения к телефону</font>(data_1)"
   ]
  },
  {
   "cell_type": "code",
   "execution_count": 56,
   "metadata": {
    "scrolled": true
   },
   "outputs": [
    {
     "data": {
      "text/html": [
       "<div>\n",
       "<style scoped>\n",
       "    .dataframe tbody tr th:only-of-type {\n",
       "        vertical-align: middle;\n",
       "    }\n",
       "\n",
       "    .dataframe tbody tr th {\n",
       "        vertical-align: top;\n",
       "    }\n",
       "\n",
       "    .dataframe thead th {\n",
       "        text-align: right;\n",
       "    }\n",
       "</style>\n",
       "<table border=\"1\" class=\"dataframe\">\n",
       "  <thead>\n",
       "    <tr style=\"text-align: right;\">\n",
       "      <th></th>\n",
       "      <th>name</th>\n",
       "      <th>price</th>\n",
       "      <th>sum_parent_length_width</th>\n",
       "    </tr>\n",
       "  </thead>\n",
       "  <tbody>\n",
       "    <tr>\n",
       "      <th>37</th>\n",
       "      <td>SITITEK BM02</td>\n",
       "      <td>2650</td>\n",
       "      <td>100.0</td>\n",
       "    </tr>\n",
       "    <tr>\n",
       "      <th>31</th>\n",
       "      <td>Lionelo Видеоняня Babyline 5.1</td>\n",
       "      <td>10990</td>\n",
       "      <td>160.0</td>\n",
       "    </tr>\n",
       "    <tr>\n",
       "      <th>35</th>\n",
       "      <td>AngelEye AE210</td>\n",
       "      <td>5980</td>\n",
       "      <td>172.0</td>\n",
       "    </tr>\n",
       "    <tr>\n",
       "      <th>8</th>\n",
       "      <td>Summer Infant Slim&amp;Secure 2.5</td>\n",
       "      <td>9799</td>\n",
       "      <td>172.0</td>\n",
       "    </tr>\n",
       "    <tr>\n",
       "      <th>21</th>\n",
       "      <td>Байкал М-01</td>\n",
       "      <td>9900</td>\n",
       "      <td>186.0</td>\n",
       "    </tr>\n",
       "    <tr>\n",
       "      <th>14</th>\n",
       "      <td>Alecto DVM-150</td>\n",
       "      <td>12200</td>\n",
       "      <td>187.0</td>\n",
       "    </tr>\n",
       "    <tr>\n",
       "      <th>0</th>\n",
       "      <td>Luvion Platinum 3</td>\n",
       "      <td>8450</td>\n",
       "      <td>190.0</td>\n",
       "    </tr>\n",
       "    <tr>\n",
       "      <th>36</th>\n",
       "      <td>Video Baby Monitor VB601</td>\n",
       "      <td>3620</td>\n",
       "      <td>191.0</td>\n",
       "    </tr>\n",
       "    <tr>\n",
       "      <th>19</th>\n",
       "      <td>Ramili Baby RV600</td>\n",
       "      <td>13990</td>\n",
       "      <td>195.0</td>\n",
       "    </tr>\n",
       "    <tr>\n",
       "      <th>17</th>\n",
       "      <td>Luvion Essential Plus</td>\n",
       "      <td>13500</td>\n",
       "      <td>200.0</td>\n",
       "    </tr>\n",
       "    <tr>\n",
       "      <th>38</th>\n",
       "      <td>Samsung SEW-3057WPX2</td>\n",
       "      <td>39790</td>\n",
       "      <td>200.0</td>\n",
       "    </tr>\n",
       "    <tr>\n",
       "      <th>2</th>\n",
       "      <td>Beurer JBY100</td>\n",
       "      <td>8800</td>\n",
       "      <td>205.0</td>\n",
       "    </tr>\n",
       "    <tr>\n",
       "      <th>18</th>\n",
       "      <td>Panasonic KX-HN3001</td>\n",
       "      <td>13990</td>\n",
       "      <td>206.0</td>\n",
       "    </tr>\n",
       "    <tr>\n",
       "      <th>22</th>\n",
       "      <td>Moonybaby 55933</td>\n",
       "      <td>9989</td>\n",
       "      <td>209.0</td>\n",
       "    </tr>\n",
       "    <tr>\n",
       "      <th>34</th>\n",
       "      <td>Ramili Baby RV1000</td>\n",
       "      <td>17990</td>\n",
       "      <td>218.0</td>\n",
       "    </tr>\n",
       "    <tr>\n",
       "      <th>16</th>\n",
       "      <td>Chicco Top Delux 254</td>\n",
       "      <td>12769</td>\n",
       "      <td>220.0</td>\n",
       "    </tr>\n",
       "    <tr>\n",
       "      <th>1</th>\n",
       "      <td>Hello Baby HB32</td>\n",
       "      <td>8900</td>\n",
       "      <td>234.0</td>\n",
       "    </tr>\n",
       "    <tr>\n",
       "      <th>7</th>\n",
       "      <td>Motorola LUX65Connect</td>\n",
       "      <td>9600</td>\n",
       "      <td>240.0</td>\n",
       "    </tr>\n",
       "    <tr>\n",
       "      <th>6</th>\n",
       "      <td>HelloBaby HB25</td>\n",
       "      <td>9390</td>\n",
       "      <td>250.0</td>\n",
       "    </tr>\n",
       "    <tr>\n",
       "      <th>15</th>\n",
       "      <td>Ramili Baby RV500X2</td>\n",
       "      <td>12500</td>\n",
       "      <td>250.0</td>\n",
       "    </tr>\n",
       "    <tr>\n",
       "      <th>25</th>\n",
       "      <td>Luvion Icon Deluxe</td>\n",
       "      <td>10700</td>\n",
       "      <td>260.0</td>\n",
       "    </tr>\n",
       "    <tr>\n",
       "      <th>13</th>\n",
       "      <td>Hello Baby HB65</td>\n",
       "      <td>11399</td>\n",
       "      <td>300.0</td>\n",
       "    </tr>\n",
       "    <tr>\n",
       "      <th>11</th>\n",
       "      <td>Motorola MBP853 CONNECT</td>\n",
       "      <td>11220</td>\n",
       "      <td>360.0</td>\n",
       "    </tr>\n",
       "    <tr>\n",
       "      <th>10</th>\n",
       "      <td>Lionelo Babyline 7.1</td>\n",
       "      <td>11200</td>\n",
       "      <td>375.0</td>\n",
       "    </tr>\n",
       "    <tr>\n",
       "      <th>26</th>\n",
       "      <td>Chicco Basic - Smart</td>\n",
       "      <td>11500</td>\n",
       "      <td>NaN</td>\n",
       "    </tr>\n",
       "  </tbody>\n",
       "</table>\n",
       "</div>"
      ],
      "text/plain": [
       "                              name  price  sum_parent_length_width\n",
       "37                    SITITEK BM02   2650                    100.0\n",
       "31  Lionelo Видеоняня Babyline 5.1  10990                    160.0\n",
       "35                  AngelEye AE210   5980                    172.0\n",
       "8    Summer Infant Slim&Secure 2.5   9799                    172.0\n",
       "21                     Байкал М-01   9900                    186.0\n",
       "14                  Alecto DVM-150  12200                    187.0\n",
       "0                Luvion Platinum 3   8450                    190.0\n",
       "36        Video Baby Monitor VB601   3620                    191.0\n",
       "19               Ramili Baby RV600  13990                    195.0\n",
       "17           Luvion Essential Plus  13500                    200.0\n",
       "38            Samsung SEW-3057WPX2  39790                    200.0\n",
       "2                    Beurer JBY100   8800                    205.0\n",
       "18             Panasonic KX-HN3001  13990                    206.0\n",
       "22                 Moonybaby 55933   9989                    209.0\n",
       "34              Ramili Baby RV1000  17990                    218.0\n",
       "16            Chicco Top Delux 254  12769                    220.0\n",
       "1                  Hello Baby HB32   8900                    234.0\n",
       "7            Motorola LUX65Connect   9600                    240.0\n",
       "6                   HelloBaby HB25   9390                    250.0\n",
       "15             Ramili Baby RV500X2  12500                    250.0\n",
       "25              Luvion Icon Deluxe  10700                    260.0\n",
       "13                 Hello Baby HB65  11399                    300.0\n",
       "11         Motorola MBP853 CONNECT  11220                    360.0\n",
       "10            Lionelo Babyline 7.1  11200                    375.0\n",
       "26            Chicco Basic - Smart  11500                      NaN"
      ]
     },
     "execution_count": 56,
     "metadata": {},
     "output_type": "execute_result"
    }
   ],
   "source": [
    "data_1[['name','price', 'sum_parent_length_width']].sort_values(by = ['sum_parent_length_width', 'price'])"
   ]
  },
  {
   "cell_type": "code",
   "execution_count": 57,
   "metadata": {},
   "outputs": [
    {
     "data": {
      "image/png": "[encoded data removed]",
      "text/plain": [
       "<Figure size 1080x576 with 1 Axes>"
      ]
     },
     "metadata": {
      "needs_background": "light"
     },
     "output_type": "display_data"
    }
   ],
   "source": [
    "data_1[data_1['sum_parent_length_width'] > 0].pivot_table(index = 'name', values = 'sum_parent_length_width', aggfunc = 'sum').sort_values(ascending=True, by = 'sum_parent_length_width').plot(kind = 'bar', figsize=(15,8),title=\"Сортировка камер в порядке возрастания по сумме высоты и ширины\");"
   ]
  },
  {
   "cell_type": "code",
   "execution_count": 58,
   "metadata": {},
   "outputs": [],
   "source": [
    "data_1_win_sum = data_1.query('sum_parent_length_width < 220')"
   ]
  },
  {
   "cell_type": "markdown",
   "metadata": {},
   "source": [
    "<font size=\"4\"> Делаем срез видеонянь_1(видеоняни, которые имеют пульт управления, то есть без подключения к телефону) **меньше 220 по параметру 'sum_parent_length_width'**</font>"
   ]
  },
  {
   "cell_type": "code",
   "execution_count": 59,
   "metadata": {},
   "outputs": [
    {
     "data": {
      "image/png": "[encoded data removed]",
      "text/plain": [
       "<Figure size 1080x576 with 1 Axes>"
      ]
     },
     "metadata": {
      "needs_background": "light"
     },
     "output_type": "display_data"
    }
   ],
   "source": [
    "data_1_win_sum[data_1_win_sum['sum_parent_length_width'] > 0].pivot_table(index = 'name', values = 'price', aggfunc = 'sum').sort_values(ascending=True, by = 'price').plot(kind = 'bar', figsize=(15,8),title=\"Сортировка камер в порядке возрастания по цене\");"
   ]
  },
  {
   "cell_type": "code",
   "execution_count": 60,
   "metadata": {},
   "outputs": [],
   "source": [
    "data_1_win_price = data_1_win_sum.query('price < 15000')"
   ]
  },
  {
   "cell_type": "markdown",
   "metadata": {},
   "source": [
    "<font size=\"4\"> Делаем срез видеонянь_1 **меньше 15000 по параметру 'price'**</font>"
   ]
  },
  {
   "cell_type": "code",
   "execution_count": 61,
   "metadata": {},
   "outputs": [
    {
     "data": {
      "image/png": "[encoded data removed]",
      "text/plain": [
       "<Figure size 1080x576 with 1 Axes>"
      ]
     },
     "metadata": {
      "needs_background": "light"
     },
     "output_type": "display_data"
    }
   ],
   "source": [
    "data_1_win_price[data_1_win_price['sum_parent_length_width'] > 0].pivot_table(index = 'name', values = 'weight', aggfunc = 'sum').sort_values(ascending=True, by = 'weight').plot(kind = 'bar', figsize=(15,8),title=\"Сортировка камер в порядке возрастания по цене\");"
   ]
  },
  {
   "cell_type": "code",
   "execution_count": 62,
   "metadata": {},
   "outputs": [],
   "source": [
    "data_1_win_weight = data_1_win_price.query('weight < 700')\n",
    "#data_1_win_weight[data_1_win_weight['battery_life'] == -1]"
   ]
  },
  {
   "cell_type": "markdown",
   "metadata": {},
   "source": [
    "<font size=\"4\"> Делаем срез видеонянь_1 **меньше 700 по параметру 'weight'**</font>"
   ]
  },
  {
   "cell_type": "code",
   "execution_count": 63,
   "metadata": {},
   "outputs": [
    {
     "data": {
      "image/png": "[encoded data removed]",
      "text/plain": [
       "<Figure size 1080x576 with 1 Axes>"
      ]
     },
     "metadata": {
      "needs_background": "light"
     },
     "output_type": "display_data"
    }
   ],
   "source": [
    "data_1_win_weight[data_1_win_weight['battery_life'] > 0].pivot_table(index = 'name', values = 'battery_life', aggfunc = 'sum').sort_values(ascending=True, by = 'battery_life').plot(kind = 'bar', figsize=(15,8),title=\"Сортировка камер с аккумулятором в порядке возрастания по времени работы батареи\");"
   ]
  },
  {
   "cell_type": "code",
   "execution_count": 64,
   "metadata": {},
   "outputs": [
    {
     "data": {
      "text/plain": [
       "0                  Luvion Platinum 3\n",
       "2                      Beurer JBY100\n",
       "18               Panasonic KX-HN3001\n",
       "31    Lionelo Видеоняня Babyline 5.1\n",
       "36          Video Baby Monitor VB601\n",
       "Name: name, dtype: object"
      ]
     },
     "execution_count": 64,
     "metadata": {},
     "output_type": "execute_result"
    }
   ],
   "source": [
    "data_1_win_weight['battery_life'] = data_1_win_weight['battery_life'].astype('float64')\n",
    "data_1_win_final = data_1_win_weight.query('battery_life > 5')\n",
    "data_1_win_final['name']\n"
   ]
  },
  {
   "cell_type": "markdown",
   "metadata": {},
   "source": [
    "<font size=\"4\"> Делаем срез видеонянь_1 **больше 5 по параметру 'battery_life'****</font>\n",
    "    \n",
    " <font size=\"4\"> Вывод: однозначные победители среди **аккумуляторных** видеонянь_1 по критериям - **размер, цена, вес**</font>"
   ]
  },
  {
   "cell_type": "code",
   "execution_count": 65,
   "metadata": {},
   "outputs": [
    {
     "data": {
      "text/html": [
       "<div>\n",
       "<style scoped>\n",
       "    .dataframe tbody tr th:only-of-type {\n",
       "        vertical-align: middle;\n",
       "    }\n",
       "\n",
       "    .dataframe tbody tr th {\n",
       "        vertical-align: top;\n",
       "    }\n",
       "\n",
       "    .dataframe thead th {\n",
       "        text-align: right;\n",
       "    }\n",
       "</style>\n",
       "<table border=\"1\" class=\"dataframe\">\n",
       "  <thead>\n",
       "    <tr style=\"text-align: right;\">\n",
       "      <th></th>\n",
       "      <th>name</th>\n",
       "      <th>price</th>\n",
       "      <th>user_rating</th>\n",
       "      <th>region</th>\n",
       "      <th>range_inside</th>\n",
       "      <th>range_outside</th>\n",
       "      <th>phone_connection</th>\n",
       "      <th>resolution</th>\n",
       "      <th>count_connection_type</th>\n",
       "      <th>connection_type</th>\n",
       "      <th>display</th>\n",
       "      <th>battery_life</th>\n",
       "      <th>child_size_width</th>\n",
       "      <th>child_size_length</th>\n",
       "      <th>parent_size_width</th>\n",
       "      <th>parent_size_length</th>\n",
       "      <th>weight</th>\n",
       "      <th>resolution_count</th>\n",
       "      <th>sum_parent_length_width</th>\n",
       "      <th>sum_child_length_width</th>\n",
       "    </tr>\n",
       "  </thead>\n",
       "  <tbody>\n",
       "    <tr>\n",
       "      <th>18</th>\n",
       "      <td>Panasonic KX-HN3001</td>\n",
       "      <td>13990</td>\n",
       "      <td>4.9</td>\n",
       "      <td>Китай</td>\n",
       "      <td>200.0</td>\n",
       "      <td>300.0</td>\n",
       "      <td>1</td>\n",
       "      <td>320x240</td>\n",
       "      <td>NaN</td>\n",
       "      <td>DECT</td>\n",
       "      <td>3.5</td>\n",
       "      <td>13.0</td>\n",
       "      <td>123.0</td>\n",
       "      <td>77.0</td>\n",
       "      <td>125.0</td>\n",
       "      <td>81.0</td>\n",
       "      <td>224.0</td>\n",
       "      <td>4.0</td>\n",
       "      <td>206.0</td>\n",
       "      <td>200.0</td>\n",
       "    </tr>\n",
       "    <tr>\n",
       "      <th>31</th>\n",
       "      <td>Lionelo Видеоняня Babyline 5.1</td>\n",
       "      <td>10990</td>\n",
       "      <td>4.7</td>\n",
       "      <td>Польша</td>\n",
       "      <td>50.0</td>\n",
       "      <td>300.0</td>\n",
       "      <td>1</td>\n",
       "      <td>640x480</td>\n",
       "      <td>2.0</td>\n",
       "      <td>Wi-Fi</td>\n",
       "      <td>2.4</td>\n",
       "      <td>24.0</td>\n",
       "      <td>40.0</td>\n",
       "      <td>110.0</td>\n",
       "      <td>50.0</td>\n",
       "      <td>110.0</td>\n",
       "      <td>650.0</td>\n",
       "      <td>6.0</td>\n",
       "      <td>160.0</td>\n",
       "      <td>150.0</td>\n",
       "    </tr>\n",
       "  </tbody>\n",
       "</table>\n",
       "</div>"
      ],
      "text/plain": [
       "                              name  price  user_rating  region  range_inside  \\\n",
       "18             Panasonic KX-HN3001  13990          4.9   Китай         200.0   \n",
       "31  Lionelo Видеоняня Babyline 5.1  10990          4.7  Польша          50.0   \n",
       "\n",
       "    range_outside  phone_connection resolution  count_connection_type  \\\n",
       "18          300.0                 1    320x240                    NaN   \n",
       "31          300.0                 1    640x480                    2.0   \n",
       "\n",
       "   connection_type  display  battery_life  child_size_width  \\\n",
       "18            DECT      3.5          13.0             123.0   \n",
       "31           Wi-Fi      2.4          24.0              40.0   \n",
       "\n",
       "    child_size_length  parent_size_width  parent_size_length  weight  \\\n",
       "18               77.0              125.0                81.0   224.0   \n",
       "31              110.0               50.0               110.0   650.0   \n",
       "\n",
       "    resolution_count  sum_parent_length_width  sum_child_length_width  \n",
       "18               4.0                    206.0                   200.0  \n",
       "31               6.0                    160.0                   150.0  "
      ]
     },
     "execution_count": 65,
     "metadata": {},
     "output_type": "execute_result"
    }
   ],
   "source": [
    "#data_1_win_weight.info()\n",
    "data_1_win_final.query('battery_life > 10')\n",
    "data_1_win_final_battery_life = data_1_win_final.query('battery_life > 10')\n",
    "data_1_win_final.query('battery_life > 10')"
   ]
  },
  {
   "cell_type": "markdown",
   "metadata": {},
   "source": [
    "<font size=\"4\"> Вывод: однозначные победители среди **аккумуляторных** видеонянь_1 по критериям - **размер, цена, вес, автономность**</font>"
   ]
  },
  {
   "cell_type": "code",
   "execution_count": 66,
   "metadata": {},
   "outputs": [
    {
     "data": {
      "text/html": [
       "<div>\n",
       "<style scoped>\n",
       "    .dataframe tbody tr th:only-of-type {\n",
       "        vertical-align: middle;\n",
       "    }\n",
       "\n",
       "    .dataframe tbody tr th {\n",
       "        vertical-align: top;\n",
       "    }\n",
       "\n",
       "    .dataframe thead th {\n",
       "        text-align: right;\n",
       "    }\n",
       "</style>\n",
       "<table border=\"1\" class=\"dataframe\">\n",
       "  <thead>\n",
       "    <tr style=\"text-align: right;\">\n",
       "      <th></th>\n",
       "      <th>name</th>\n",
       "      <th>price</th>\n",
       "      <th>user_rating</th>\n",
       "      <th>region</th>\n",
       "      <th>range_inside</th>\n",
       "      <th>range_outside</th>\n",
       "      <th>phone_connection</th>\n",
       "      <th>resolution</th>\n",
       "      <th>count_connection_type</th>\n",
       "      <th>connection_type</th>\n",
       "      <th>display</th>\n",
       "      <th>battery_life</th>\n",
       "      <th>child_size_width</th>\n",
       "      <th>child_size_length</th>\n",
       "      <th>parent_size_width</th>\n",
       "      <th>parent_size_length</th>\n",
       "      <th>weight</th>\n",
       "      <th>resolution_count</th>\n",
       "      <th>sum_parent_length_width</th>\n",
       "      <th>sum_child_length_width</th>\n",
       "    </tr>\n",
       "  </thead>\n",
       "  <tbody>\n",
       "    <tr>\n",
       "      <th>14</th>\n",
       "      <td>Alecto DVM-150</td>\n",
       "      <td>12200</td>\n",
       "      <td>4.5</td>\n",
       "      <td>Германия</td>\n",
       "      <td>50.0</td>\n",
       "      <td>300.0</td>\n",
       "      <td>1</td>\n",
       "      <td>480x272</td>\n",
       "      <td>1.0</td>\n",
       "      <td>FHSS 2,4GHz</td>\n",
       "      <td>5.0</td>\n",
       "      <td>-1.0</td>\n",
       "      <td>95.0</td>\n",
       "      <td>166.0</td>\n",
       "      <td>85.0</td>\n",
       "      <td>102.0</td>\n",
       "      <td>550.0</td>\n",
       "      <td>5.0</td>\n",
       "      <td>187.0</td>\n",
       "      <td>261.0</td>\n",
       "    </tr>\n",
       "    <tr>\n",
       "      <th>37</th>\n",
       "      <td>SITITEK BM02</td>\n",
       "      <td>2650</td>\n",
       "      <td>4.0</td>\n",
       "      <td>Китай</td>\n",
       "      <td>50.0</td>\n",
       "      <td>150.0</td>\n",
       "      <td>1</td>\n",
       "      <td>320x240</td>\n",
       "      <td>4.0</td>\n",
       "      <td>FHSS 2,4GHz</td>\n",
       "      <td>2.4</td>\n",
       "      <td>-1.0</td>\n",
       "      <td>90.0</td>\n",
       "      <td>150.0</td>\n",
       "      <td>50.0</td>\n",
       "      <td>50.0</td>\n",
       "      <td>588.0</td>\n",
       "      <td>4.0</td>\n",
       "      <td>100.0</td>\n",
       "      <td>240.0</td>\n",
       "    </tr>\n",
       "  </tbody>\n",
       "</table>\n",
       "</div>"
      ],
      "text/plain": [
       "              name  price  user_rating    region  range_inside  range_outside  \\\n",
       "14  Alecto DVM-150  12200          4.5  Германия          50.0          300.0   \n",
       "37    SITITEK BM02   2650          4.0     Китай          50.0          150.0   \n",
       "\n",
       "    phone_connection resolution  count_connection_type connection_type  \\\n",
       "14                 1    480x272                    1.0     FHSS 2,4GHz   \n",
       "37                 1    320x240                    4.0     FHSS 2,4GHz   \n",
       "\n",
       "    display  battery_life  child_size_width  child_size_length  \\\n",
       "14      5.0          -1.0              95.0              166.0   \n",
       "37      2.4          -1.0              90.0              150.0   \n",
       "\n",
       "    parent_size_width  parent_size_length  weight  resolution_count  \\\n",
       "14               85.0               102.0   550.0               5.0   \n",
       "37               50.0                50.0   588.0               4.0   \n",
       "\n",
       "    sum_parent_length_width  sum_child_length_width  \n",
       "14                    187.0                   261.0  \n",
       "37                    100.0                   240.0  "
      ]
     },
     "execution_count": 66,
     "metadata": {},
     "output_type": "execute_result"
    }
   ],
   "source": [
    "data_1_win_weight[data_1_win_weight['battery_life'] == -1]"
   ]
  },
  {
   "cell_type": "markdown",
   "metadata": {},
   "source": [
    "<font size=\"4\"> Вывод: однозначные победители среди видеонянь_1 **от сети или на батарейках** по критериям - **размер, цена, вес**</font>"
   ]
  },
  {
   "cell_type": "code",
   "execution_count": 67,
   "metadata": {},
   "outputs": [],
   "source": [
    "data_1_win_weight_AAA=data_1_win_weight[data_1_win_weight['battery_life'] == -1]"
   ]
  },
  {
   "cell_type": "code",
   "execution_count": 68,
   "metadata": {},
   "outputs": [
    {
     "data": {
      "image/png": "[encoded data removed]",
      "text/plain": [
       "<Figure size 1080x576 with 1 Axes>"
      ]
     },
     "metadata": {
      "needs_background": "light"
     },
     "output_type": "display_data"
    }
   ],
   "source": [
    "data_1_win_weight_AAA.pivot_table(index = 'name', values = 'resolution_count', aggfunc = 'sum').sort_values(ascending=True, by = 'resolution_count').plot(kind = 'bar', figsize=(15,8),title=\"Сортировка камер с аккумулятором в порядке возрастания по времени работы батареи\");"
   ]
  },
  {
   "cell_type": "code",
   "execution_count": 69,
   "metadata": {},
   "outputs": [
    {
     "data": {
      "text/html": [
       "<div>\n",
       "<style scoped>\n",
       "    .dataframe tbody tr th:only-of-type {\n",
       "        vertical-align: middle;\n",
       "    }\n",
       "\n",
       "    .dataframe tbody tr th {\n",
       "        vertical-align: top;\n",
       "    }\n",
       "\n",
       "    .dataframe thead th {\n",
       "        text-align: right;\n",
       "    }\n",
       "</style>\n",
       "<table border=\"1\" class=\"dataframe\">\n",
       "  <thead>\n",
       "    <tr style=\"text-align: right;\">\n",
       "      <th></th>\n",
       "      <th>name</th>\n",
       "      <th>price</th>\n",
       "      <th>user_rating</th>\n",
       "      <th>region</th>\n",
       "      <th>range_inside</th>\n",
       "      <th>range_outside</th>\n",
       "      <th>phone_connection</th>\n",
       "      <th>resolution</th>\n",
       "      <th>count_connection_type</th>\n",
       "      <th>connection_type</th>\n",
       "      <th>display</th>\n",
       "      <th>battery_life</th>\n",
       "      <th>child_size_width</th>\n",
       "      <th>child_size_length</th>\n",
       "      <th>parent_size_width</th>\n",
       "      <th>parent_size_length</th>\n",
       "      <th>weight</th>\n",
       "      <th>resolution_count</th>\n",
       "      <th>sum_parent_length_width</th>\n",
       "      <th>sum_child_length_width</th>\n",
       "    </tr>\n",
       "  </thead>\n",
       "  <tbody>\n",
       "    <tr>\n",
       "      <th>14</th>\n",
       "      <td>Alecto DVM-150</td>\n",
       "      <td>12200</td>\n",
       "      <td>4.5</td>\n",
       "      <td>Германия</td>\n",
       "      <td>50.0</td>\n",
       "      <td>300.0</td>\n",
       "      <td>1</td>\n",
       "      <td>480x272</td>\n",
       "      <td>1.0</td>\n",
       "      <td>FHSS 2,4GHz</td>\n",
       "      <td>5.0</td>\n",
       "      <td>-1.0</td>\n",
       "      <td>95.0</td>\n",
       "      <td>166.0</td>\n",
       "      <td>85.0</td>\n",
       "      <td>102.0</td>\n",
       "      <td>550.0</td>\n",
       "      <td>5.0</td>\n",
       "      <td>187.0</td>\n",
       "      <td>261.0</td>\n",
       "    </tr>\n",
       "  </tbody>\n",
       "</table>\n",
       "</div>"
      ],
      "text/plain": [
       "              name  price  user_rating    region  range_inside  range_outside  \\\n",
       "14  Alecto DVM-150  12200          4.5  Германия          50.0          300.0   \n",
       "\n",
       "    phone_connection resolution  count_connection_type connection_type  \\\n",
       "14                 1    480x272                    1.0     FHSS 2,4GHz   \n",
       "\n",
       "    display  battery_life  child_size_width  child_size_length  \\\n",
       "14      5.0          -1.0              95.0              166.0   \n",
       "\n",
       "    parent_size_width  parent_size_length  weight  resolution_count  \\\n",
       "14               85.0               102.0   550.0               5.0   \n",
       "\n",
       "    sum_parent_length_width  sum_child_length_width  \n",
       "14                    187.0                   261.0  "
      ]
     },
     "execution_count": 69,
     "metadata": {},
     "output_type": "execute_result"
    }
   ],
   "source": [
    "data_1_win_resolution_AAA = data_1_win_weight_AAA[data_1_win_weight_AAA['resolution_count'] > 4]\n",
    "data_1_win_resolution_AAA[data_1_win_resolution_AAA['resolution_count'] > 4]"
   ]
  },
  {
   "cell_type": "markdown",
   "metadata": {},
   "source": [
    "<font size=\"4\"> Вывод: однозначный победитель видеонянь_1 **от сети** по критериям - **размер, цена, вес, разрешение**</font>"
   ]
  },
  {
   "cell_type": "code",
   "execution_count": 70,
   "metadata": {},
   "outputs": [],
   "source": [
    "#data_1_win_final['resolution_count']"
   ]
  },
  {
   "cell_type": "code",
   "execution_count": 71,
   "metadata": {},
   "outputs": [
    {
     "data": {
      "image/png": "[encoded data removed]",
      "text/plain": [
       "<Figure size 1080x576 with 1 Axes>"
      ]
     },
     "metadata": {
      "needs_background": "light"
     },
     "output_type": "display_data"
    }
   ],
   "source": [
    "data_1_win_final[data_1_win_final['resolution_count'] > 0].pivot_table(index = 'name', values = 'resolution_count', aggfunc = 'sum').sort_values(ascending=True, by = 'resolution_count').plot(kind = 'bar', figsize=(15,8),title=\"Сортировка камер с аккумулятором в порядке возрастания по времени работы батареи\");"
   ]
  },
  {
   "cell_type": "code",
   "execution_count": 72,
   "metadata": {},
   "outputs": [
    {
     "data": {
      "text/html": [
       "<div>\n",
       "<style scoped>\n",
       "    .dataframe tbody tr th:only-of-type {\n",
       "        vertical-align: middle;\n",
       "    }\n",
       "\n",
       "    .dataframe tbody tr th {\n",
       "        vertical-align: top;\n",
       "    }\n",
       "\n",
       "    .dataframe thead th {\n",
       "        text-align: right;\n",
       "    }\n",
       "</style>\n",
       "<table border=\"1\" class=\"dataframe\">\n",
       "  <thead>\n",
       "    <tr style=\"text-align: right;\">\n",
       "      <th></th>\n",
       "      <th>name</th>\n",
       "      <th>price</th>\n",
       "      <th>user_rating</th>\n",
       "      <th>region</th>\n",
       "      <th>range_inside</th>\n",
       "      <th>range_outside</th>\n",
       "      <th>phone_connection</th>\n",
       "      <th>resolution</th>\n",
       "      <th>count_connection_type</th>\n",
       "      <th>connection_type</th>\n",
       "      <th>display</th>\n",
       "      <th>battery_life</th>\n",
       "      <th>child_size_width</th>\n",
       "      <th>child_size_length</th>\n",
       "      <th>parent_size_width</th>\n",
       "      <th>parent_size_length</th>\n",
       "      <th>weight</th>\n",
       "      <th>resolution_count</th>\n",
       "      <th>sum_parent_length_width</th>\n",
       "      <th>sum_child_length_width</th>\n",
       "    </tr>\n",
       "  </thead>\n",
       "  <tbody>\n",
       "  </tbody>\n",
       "</table>\n",
       "</div>"
      ],
      "text/plain": [
       "Empty DataFrame\n",
       "Columns: [name, price, user_rating, region, range_inside, range_outside, phone_connection, resolution, count_connection_type, connection_type, display, battery_life, child_size_width, child_size_length, parent_size_width, parent_size_length, weight, resolution_count, sum_parent_length_width, sum_child_length_width]\n",
       "Index: []"
      ]
     },
     "execution_count": 72,
     "metadata": {},
     "output_type": "execute_result"
    }
   ],
   "source": [
    "data_1_win_final[data_1_win_final['battery_life'] == -1]"
   ]
  },
  {
   "cell_type": "code",
   "execution_count": 73,
   "metadata": {},
   "outputs": [
    {
     "data": {
      "text/html": [
       "<div>\n",
       "<style scoped>\n",
       "    .dataframe tbody tr th:only-of-type {\n",
       "        vertical-align: middle;\n",
       "    }\n",
       "\n",
       "    .dataframe tbody tr th {\n",
       "        vertical-align: top;\n",
       "    }\n",
       "\n",
       "    .dataframe thead th {\n",
       "        text-align: right;\n",
       "    }\n",
       "</style>\n",
       "<table border=\"1\" class=\"dataframe\">\n",
       "  <thead>\n",
       "    <tr style=\"text-align: right;\">\n",
       "      <th></th>\n",
       "      <th>name</th>\n",
       "      <th>price</th>\n",
       "      <th>user_rating</th>\n",
       "      <th>region</th>\n",
       "      <th>range_inside</th>\n",
       "      <th>range_outside</th>\n",
       "      <th>phone_connection</th>\n",
       "      <th>resolution</th>\n",
       "      <th>count_connection_type</th>\n",
       "      <th>connection_type</th>\n",
       "      <th>display</th>\n",
       "      <th>battery_life</th>\n",
       "      <th>child_size_width</th>\n",
       "      <th>child_size_length</th>\n",
       "      <th>parent_size_width</th>\n",
       "      <th>parent_size_length</th>\n",
       "      <th>weight</th>\n",
       "      <th>resolution_count</th>\n",
       "      <th>sum_parent_length_width</th>\n",
       "      <th>sum_child_length_width</th>\n",
       "    </tr>\n",
       "  </thead>\n",
       "  <tbody>\n",
       "    <tr>\n",
       "      <th>18</th>\n",
       "      <td>Panasonic KX-HN3001</td>\n",
       "      <td>13990</td>\n",
       "      <td>4.9</td>\n",
       "      <td>Китай</td>\n",
       "      <td>200.0</td>\n",
       "      <td>300.0</td>\n",
       "      <td>1</td>\n",
       "      <td>320x240</td>\n",
       "      <td>NaN</td>\n",
       "      <td>DECT</td>\n",
       "      <td>3.5</td>\n",
       "      <td>13.0</td>\n",
       "      <td>123.0</td>\n",
       "      <td>77.0</td>\n",
       "      <td>125.0</td>\n",
       "      <td>81.0</td>\n",
       "      <td>224.0</td>\n",
       "      <td>4.0</td>\n",
       "      <td>206.0</td>\n",
       "      <td>200.0</td>\n",
       "    </tr>\n",
       "    <tr>\n",
       "      <th>31</th>\n",
       "      <td>Lionelo Видеоняня Babyline 5.1</td>\n",
       "      <td>10990</td>\n",
       "      <td>4.7</td>\n",
       "      <td>Польша</td>\n",
       "      <td>50.0</td>\n",
       "      <td>300.0</td>\n",
       "      <td>1</td>\n",
       "      <td>640x480</td>\n",
       "      <td>2.0</td>\n",
       "      <td>Wi-Fi</td>\n",
       "      <td>2.4</td>\n",
       "      <td>24.0</td>\n",
       "      <td>40.0</td>\n",
       "      <td>110.0</td>\n",
       "      <td>50.0</td>\n",
       "      <td>110.0</td>\n",
       "      <td>650.0</td>\n",
       "      <td>6.0</td>\n",
       "      <td>160.0</td>\n",
       "      <td>150.0</td>\n",
       "    </tr>\n",
       "  </tbody>\n",
       "</table>\n",
       "</div>"
      ],
      "text/plain": [
       "                              name  price  user_rating  region  range_inside  \\\n",
       "18             Panasonic KX-HN3001  13990          4.9   Китай         200.0   \n",
       "31  Lionelo Видеоняня Babyline 5.1  10990          4.7  Польша          50.0   \n",
       "\n",
       "    range_outside  phone_connection resolution  count_connection_type  \\\n",
       "18          300.0                 1    320x240                    NaN   \n",
       "31          300.0                 1    640x480                    2.0   \n",
       "\n",
       "   connection_type  display  battery_life  child_size_width  \\\n",
       "18            DECT      3.5          13.0             123.0   \n",
       "31           Wi-Fi      2.4          24.0              40.0   \n",
       "\n",
       "    child_size_length  parent_size_width  parent_size_length  weight  \\\n",
       "18               77.0              125.0                81.0   224.0   \n",
       "31              110.0               50.0               110.0   650.0   \n",
       "\n",
       "    resolution_count  sum_parent_length_width  sum_child_length_width  \n",
       "18               4.0                    206.0                   200.0  \n",
       "31               6.0                    160.0                   150.0  "
      ]
     },
     "execution_count": 73,
     "metadata": {},
     "output_type": "execute_result"
    }
   ],
   "source": [
    "data_1_win_final_resolution = data_1_win_final[data_1_win_final['resolution_count'] > 3]\n",
    "data_1_win_final[data_1_win_final['resolution_count'] > 3]"
   ]
  },
  {
   "cell_type": "markdown",
   "metadata": {},
   "source": [
    "<font size=\"4\"> Вывод: однозначные победители среди видеонянь_1 **от сети или на батарейках** по критериям - **размер, цена, вес, разрешение.** Совпало с автономностью.</font>"
   ]
  },
  {
   "cell_type": "markdown",
   "metadata": {},
   "source": [
    "  <font size=\"6\">Анализ видеокамер</font>(data_camera)"
   ]
  },
  {
   "cell_type": "code",
   "execution_count": 74,
   "metadata": {},
   "outputs": [
    {
     "data": {
      "text/html": [
       "<div>\n",
       "<style scoped>\n",
       "    .dataframe tbody tr th:only-of-type {\n",
       "        vertical-align: middle;\n",
       "    }\n",
       "\n",
       "    .dataframe tbody tr th {\n",
       "        vertical-align: top;\n",
       "    }\n",
       "\n",
       "    .dataframe thead th {\n",
       "        text-align: right;\n",
       "    }\n",
       "</style>\n",
       "<table border=\"1\" class=\"dataframe\">\n",
       "  <thead>\n",
       "    <tr style=\"text-align: right;\">\n",
       "      <th></th>\n",
       "      <th>name</th>\n",
       "      <th>price</th>\n",
       "      <th>user_rating</th>\n",
       "      <th>resolution</th>\n",
       "      <th>battery_life</th>\n",
       "      <th>weight</th>\n",
       "      <th>length</th>\n",
       "      <th>width</th>\n",
       "    </tr>\n",
       "  </thead>\n",
       "  <tbody>\n",
       "    <tr>\n",
       "      <th>0</th>\n",
       "      <td>XYisfream</td>\n",
       "      <td>2040</td>\n",
       "      <td>4.7</td>\n",
       "      <td>1920x1080</td>\n",
       "      <td>3.00</td>\n",
       "      <td>32</td>\n",
       "      <td>40</td>\n",
       "      <td>40</td>\n",
       "    </tr>\n",
       "    <tr>\n",
       "      <th>1</th>\n",
       "      <td>Sailvde Surveillance</td>\n",
       "      <td>1079</td>\n",
       "      <td>4.7</td>\n",
       "      <td>1920x1080</td>\n",
       "      <td>1.00</td>\n",
       "      <td>25</td>\n",
       "      <td>45</td>\n",
       "      <td>45</td>\n",
       "    </tr>\n",
       "    <tr>\n",
       "      <th>2</th>\n",
       "      <td>HAMROLTE</td>\n",
       "      <td>852</td>\n",
       "      <td>4.7</td>\n",
       "      <td>1920x1080</td>\n",
       "      <td>NaN</td>\n",
       "      <td>41</td>\n",
       "      <td>58</td>\n",
       "      <td>58</td>\n",
       "    </tr>\n",
       "    <tr>\n",
       "      <th>3</th>\n",
       "      <td>YIKIXI</td>\n",
       "      <td>1828</td>\n",
       "      <td>4.5</td>\n",
       "      <td>1920x1080</td>\n",
       "      <td>NaN</td>\n",
       "      <td>21</td>\n",
       "      <td>30</td>\n",
       "      <td>30</td>\n",
       "    </tr>\n",
       "    <tr>\n",
       "      <th>4</th>\n",
       "      <td>Sailvde 4K Mini Surveillance</td>\n",
       "      <td>2379</td>\n",
       "      <td>4.7</td>\n",
       "      <td>3840x2160</td>\n",
       "      <td>5.00</td>\n",
       "      <td>50</td>\n",
       "      <td>48</td>\n",
       "      <td>80</td>\n",
       "    </tr>\n",
       "    <tr>\n",
       "      <th>5</th>\n",
       "      <td>JOZUZE DIY-30</td>\n",
       "      <td>1274</td>\n",
       "      <td>4.7</td>\n",
       "      <td>1280x720</td>\n",
       "      <td>NaN</td>\n",
       "      <td>9</td>\n",
       "      <td>17</td>\n",
       "      <td>54</td>\n",
       "    </tr>\n",
       "    <tr>\n",
       "      <th>6</th>\n",
       "      <td>CUGUU DIY Mini Camera</td>\n",
       "      <td>835</td>\n",
       "      <td>4.1</td>\n",
       "      <td>1920x1080</td>\n",
       "      <td>NaN</td>\n",
       "      <td>9</td>\n",
       "      <td>18</td>\n",
       "      <td>54</td>\n",
       "    </tr>\n",
       "    <tr>\n",
       "      <th>7</th>\n",
       "      <td>YIKIXI IR-CUT Mini Camera</td>\n",
       "      <td>1323</td>\n",
       "      <td>4.3</td>\n",
       "      <td>1920x1080</td>\n",
       "      <td>NaN</td>\n",
       "      <td>7</td>\n",
       "      <td>28</td>\n",
       "      <td>30</td>\n",
       "    </tr>\n",
       "    <tr>\n",
       "      <th>8</th>\n",
       "      <td>SECLINK USB Mini Camera</td>\n",
       "      <td>2980</td>\n",
       "      <td>4.7</td>\n",
       "      <td>1920x1080</td>\n",
       "      <td>NaN</td>\n",
       "      <td>24</td>\n",
       "      <td>26</td>\n",
       "      <td>158</td>\n",
       "    </tr>\n",
       "    <tr>\n",
       "      <th>9</th>\n",
       "      <td>Jinyan cam DIY Mini Micro DVR Black</td>\n",
       "      <td>1395</td>\n",
       "      <td>4.1</td>\n",
       "      <td>720x480</td>\n",
       "      <td>0.75</td>\n",
       "      <td>120</td>\n",
       "      <td>60</td>\n",
       "      <td>80</td>\n",
       "    </tr>\n",
       "  </tbody>\n",
       "</table>\n",
       "</div>"
      ],
      "text/plain": [
       "                                  name  price  user_rating resolution  \\\n",
       "0                            XYisfream   2040          4.7  1920x1080   \n",
       "1                 Sailvde Surveillance   1079          4.7  1920x1080   \n",
       "2                             HAMROLTE    852          4.7  1920x1080   \n",
       "3                               YIKIXI   1828          4.5  1920x1080   \n",
       "4         Sailvde 4K Mini Surveillance   2379          4.7  3840x2160   \n",
       "5                        JOZUZE DIY-30   1274          4.7   1280x720   \n",
       "6                CUGUU DIY Mini Camera    835          4.1  1920x1080   \n",
       "7            YIKIXI IR-CUT Mini Camera   1323          4.3  1920x1080   \n",
       "8              SECLINK USB Mini Camera   2980          4.7  1920x1080   \n",
       "9  Jinyan cam DIY Mini Micro DVR Black   1395          4.1    720x480   \n",
       "\n",
       "   battery_life  weight  length  width  \n",
       "0          3.00      32      40     40  \n",
       "1          1.00      25      45     45  \n",
       "2           NaN      41      58     58  \n",
       "3           NaN      21      30     30  \n",
       "4          5.00      50      48     80  \n",
       "5           NaN       9      17     54  \n",
       "6           NaN       9      18     54  \n",
       "7           NaN       7      28     30  \n",
       "8           NaN      24      26    158  \n",
       "9          0.75     120      60     80  "
      ]
     },
     "execution_count": 74,
     "metadata": {},
     "output_type": "execute_result"
    }
   ],
   "source": [
    "data_camera = pd.read_csv('cameras3.csv')\n",
    "data_camera.head(20)"
   ]
  },
  {
   "cell_type": "code",
   "execution_count": 75,
   "metadata": {},
   "outputs": [
    {
     "data": {
      "image/png": "[encoded data removed]",
      "text/plain": [
       "<Figure size 1080x576 with 1 Axes>"
      ]
     },
     "metadata": {
      "needs_background": "light"
     },
     "output_type": "display_data"
    }
   ],
   "source": [
    "data_camera['sum_length_width'] = data_camera['length'] + data_camera['width']\n",
    "\n",
    "data_camera.pivot_table(index = 'name', values = 'sum_length_width', aggfunc = 'sum').sort_values(ascending=True, by = 'sum_length_width').plot(kind = 'bar', figsize=(15,8),title=\"Сортировка камер в порядке возрастания по сумме высоты и ширины\");\n"
   ]
  },
  {
   "cell_type": "code",
   "execution_count": 76,
   "metadata": {},
   "outputs": [
    {
     "data": {
      "image/png": "[encoded data removed]",
      "text/plain": [
       "<Figure size 1080x576 with 1 Axes>"
      ]
     },
     "metadata": {
      "needs_background": "light"
     },
     "output_type": "display_data"
    }
   ],
   "source": [
    "data_camera_win_sum = data_camera.query('sum_length_width < 100')\n",
    "\n",
    "data_camera_win_sum.pivot_table(index = 'name', values = 'price', aggfunc = 'sum').sort_values(ascending=True, by = 'price').plot(kind = 'bar', figsize=(15,8),title=\"Сортировка камер в порядке возрастания по цене\");"
   ]
  },
  {
   "cell_type": "code",
   "execution_count": 77,
   "metadata": {},
   "outputs": [
    {
     "data": {
      "text/html": [
       "<div>\n",
       "<style scoped>\n",
       "    .dataframe tbody tr th:only-of-type {\n",
       "        vertical-align: middle;\n",
       "    }\n",
       "\n",
       "    .dataframe tbody tr th {\n",
       "        vertical-align: top;\n",
       "    }\n",
       "\n",
       "    .dataframe thead th {\n",
       "        text-align: right;\n",
       "    }\n",
       "</style>\n",
       "<table border=\"1\" class=\"dataframe\">\n",
       "  <thead>\n",
       "    <tr style=\"text-align: right;\">\n",
       "      <th></th>\n",
       "      <th>name</th>\n",
       "      <th>price</th>\n",
       "      <th>user_rating</th>\n",
       "      <th>resolution</th>\n",
       "      <th>battery_life</th>\n",
       "      <th>weight</th>\n",
       "      <th>length</th>\n",
       "      <th>width</th>\n",
       "    </tr>\n",
       "  </thead>\n",
       "  <tbody>\n",
       "    <tr>\n",
       "      <th>0</th>\n",
       "      <td>XYisfream</td>\n",
       "      <td>2040</td>\n",
       "      <td>4.7</td>\n",
       "      <td>1920x1080</td>\n",
       "      <td>3.00</td>\n",
       "      <td>32</td>\n",
       "      <td>40</td>\n",
       "      <td>40</td>\n",
       "    </tr>\n",
       "    <tr>\n",
       "      <th>1</th>\n",
       "      <td>Sailvde Surveillance</td>\n",
       "      <td>1079</td>\n",
       "      <td>4.7</td>\n",
       "      <td>1920x1080</td>\n",
       "      <td>1.00</td>\n",
       "      <td>25</td>\n",
       "      <td>45</td>\n",
       "      <td>45</td>\n",
       "    </tr>\n",
       "    <tr>\n",
       "      <th>2</th>\n",
       "      <td>HAMROLTE</td>\n",
       "      <td>852</td>\n",
       "      <td>4.7</td>\n",
       "      <td>1920x1080</td>\n",
       "      <td>NaN</td>\n",
       "      <td>41</td>\n",
       "      <td>58</td>\n",
       "      <td>58</td>\n",
       "    </tr>\n",
       "    <tr>\n",
       "      <th>3</th>\n",
       "      <td>YIKIXI</td>\n",
       "      <td>1828</td>\n",
       "      <td>4.5</td>\n",
       "      <td>1920x1080</td>\n",
       "      <td>NaN</td>\n",
       "      <td>21</td>\n",
       "      <td>30</td>\n",
       "      <td>30</td>\n",
       "    </tr>\n",
       "    <tr>\n",
       "      <th>4</th>\n",
       "      <td>Sailvde 4K Mini Surveillance</td>\n",
       "      <td>2379</td>\n",
       "      <td>4.7</td>\n",
       "      <td>3840x2160</td>\n",
       "      <td>5.00</td>\n",
       "      <td>50</td>\n",
       "      <td>48</td>\n",
       "      <td>80</td>\n",
       "    </tr>\n",
       "    <tr>\n",
       "      <th>5</th>\n",
       "      <td>JOZUZE DIY-30</td>\n",
       "      <td>1274</td>\n",
       "      <td>4.7</td>\n",
       "      <td>1280x720</td>\n",
       "      <td>NaN</td>\n",
       "      <td>9</td>\n",
       "      <td>17</td>\n",
       "      <td>54</td>\n",
       "    </tr>\n",
       "    <tr>\n",
       "      <th>6</th>\n",
       "      <td>CUGUU DIY Mini Camera</td>\n",
       "      <td>835</td>\n",
       "      <td>4.1</td>\n",
       "      <td>1920x1080</td>\n",
       "      <td>NaN</td>\n",
       "      <td>9</td>\n",
       "      <td>18</td>\n",
       "      <td>54</td>\n",
       "    </tr>\n",
       "    <tr>\n",
       "      <th>7</th>\n",
       "      <td>YIKIXI IR-CUT Mini Camera</td>\n",
       "      <td>1323</td>\n",
       "      <td>4.3</td>\n",
       "      <td>1920x1080</td>\n",
       "      <td>NaN</td>\n",
       "      <td>7</td>\n",
       "      <td>28</td>\n",
       "      <td>30</td>\n",
       "    </tr>\n",
       "    <tr>\n",
       "      <th>8</th>\n",
       "      <td>SECLINK USB Mini Camera</td>\n",
       "      <td>2980</td>\n",
       "      <td>4.7</td>\n",
       "      <td>1920x1080</td>\n",
       "      <td>NaN</td>\n",
       "      <td>24</td>\n",
       "      <td>26</td>\n",
       "      <td>158</td>\n",
       "    </tr>\n",
       "    <tr>\n",
       "      <th>9</th>\n",
       "      <td>Jinyan cam DIY Mini Micro DVR Black</td>\n",
       "      <td>1395</td>\n",
       "      <td>4.1</td>\n",
       "      <td>720x480</td>\n",
       "      <td>0.75</td>\n",
       "      <td>120</td>\n",
       "      <td>60</td>\n",
       "      <td>80</td>\n",
       "    </tr>\n",
       "  </tbody>\n",
       "</table>\n",
       "</div>"
      ],
      "text/plain": [
       "                                  name  price  user_rating resolution  \\\n",
       "0                            XYisfream   2040          4.7  1920x1080   \n",
       "1                 Sailvde Surveillance   1079          4.7  1920x1080   \n",
       "2                             HAMROLTE    852          4.7  1920x1080   \n",
       "3                               YIKIXI   1828          4.5  1920x1080   \n",
       "4         Sailvde 4K Mini Surveillance   2379          4.7  3840x2160   \n",
       "5                        JOZUZE DIY-30   1274          4.7   1280x720   \n",
       "6                CUGUU DIY Mini Camera    835          4.1  1920x1080   \n",
       "7            YIKIXI IR-CUT Mini Camera   1323          4.3  1920x1080   \n",
       "8              SECLINK USB Mini Camera   2980          4.7  1920x1080   \n",
       "9  Jinyan cam DIY Mini Micro DVR Black   1395          4.1    720x480   \n",
       "\n",
       "   battery_life  weight  length  width  \n",
       "0          3.00      32      40     40  \n",
       "1          1.00      25      45     45  \n",
       "2           NaN      41      58     58  \n",
       "3           NaN      21      30     30  \n",
       "4          5.00      50      48     80  \n",
       "5           NaN       9      17     54  \n",
       "6           NaN       9      18     54  \n",
       "7           NaN       7      28     30  \n",
       "8           NaN      24      26    158  \n",
       "9          0.75     120      60     80  "
      ]
     },
     "execution_count": 77,
     "metadata": {},
     "output_type": "execute_result"
    }
   ],
   "source": [
    "data_camera = pd.read_csv('cameras3.csv')\n",
    "data_camera.head(20)"
   ]
  },
  {
   "cell_type": "code",
   "execution_count": 78,
   "metadata": {},
   "outputs": [],
   "source": [
    "data_camera['sum_length_width'] = data_camera['length'] + data_camera['width']"
   ]
  },
  {
   "cell_type": "code",
   "execution_count": 79,
   "metadata": {},
   "outputs": [
    {
     "data": {
      "image/png": "[encoded data removed]",
      "text/plain": [
       "<Figure size 1080x576 with 1 Axes>"
      ]
     },
     "metadata": {
      "needs_background": "light"
     },
     "output_type": "display_data"
    }
   ],
   "source": [
    "data_camera.pivot_table(index = 'name', values = 'sum_length_width', aggfunc = 'sum').sort_values(ascending=True, by = 'sum_length_width').plot(kind = 'bar', figsize=(15,8),title=\"Сортировка камер в порядке возрастания по сумме высоты и ширины\");"
   ]
  },
  {
   "cell_type": "code",
   "execution_count": 80,
   "metadata": {},
   "outputs": [],
   "source": [
    "data_camera_win_sum = data_camera.query('sum_length_width < 100')"
   ]
  },
  {
   "cell_type": "markdown",
   "metadata": {},
   "source": [
    "<font size=\"4\"> Делаем срез видеокамер **меньше 100 по параметру 'sum_length_width'****</font>"
   ]
  },
  {
   "cell_type": "code",
   "execution_count": 81,
   "metadata": {},
   "outputs": [
    {
     "data": {
      "image/png": "[encoded data removed]",
      "text/plain": [
       "<Figure size 1080x576 with 1 Axes>"
      ]
     },
     "metadata": {
      "needs_background": "light"
     },
     "output_type": "display_data"
    }
   ],
   "source": [
    "data_camera_win_sum.pivot_table(index = 'name', values = 'price', aggfunc = 'sum').sort_values(ascending=True, by = 'price').plot(kind = 'bar', figsize=(15,8),title=\"Сортировка камер в порядке возрастания по цене\");"
   ]
  },
  {
   "cell_type": "code",
   "execution_count": 82,
   "metadata": {},
   "outputs": [],
   "source": [
    "data_camera_win_price = data_camera_win_sum.query('price < 1500')"
   ]
  },
  {
   "cell_type": "markdown",
   "metadata": {},
   "source": [
    "<font size=\"4\"> Делаем срез видеокамер **меньше 1500 по параметру 'price'****</font>"
   ]
  },
  {
   "cell_type": "code",
   "execution_count": 83,
   "metadata": {},
   "outputs": [
    {
     "data": {
      "image/png": "[encoded data removed]",
      "text/plain": [
       "<Figure size 1080x576 with 1 Axes>"
      ]
     },
     "metadata": {
      "needs_background": "light"
     },
     "output_type": "display_data"
    }
   ],
   "source": [
    "data_camera_win_price.pivot_table(index = 'name', values = 'weight', aggfunc = 'sum').sort_values(ascending=True, by = 'weight').plot(kind = 'bar', figsize=(15,8),title=\"Сортировка камер в порядке возрастания по весу\", fontsize=10);"
   ]
  },
  {
   "cell_type": "code",
   "execution_count": 84,
   "metadata": {},
   "outputs": [
    {
     "data": {
      "text/html": [
       "<div>\n",
       "<style scoped>\n",
       "    .dataframe tbody tr th:only-of-type {\n",
       "        vertical-align: middle;\n",
       "    }\n",
       "\n",
       "    .dataframe tbody tr th {\n",
       "        vertical-align: top;\n",
       "    }\n",
       "\n",
       "    .dataframe thead th {\n",
       "        text-align: right;\n",
       "    }\n",
       "</style>\n",
       "<table border=\"1\" class=\"dataframe\">\n",
       "  <thead>\n",
       "    <tr style=\"text-align: right;\">\n",
       "      <th></th>\n",
       "      <th>name</th>\n",
       "      <th>price</th>\n",
       "      <th>user_rating</th>\n",
       "      <th>resolution</th>\n",
       "      <th>battery_life</th>\n",
       "      <th>weight</th>\n",
       "      <th>length</th>\n",
       "      <th>width</th>\n",
       "      <th>sum_length_width</th>\n",
       "    </tr>\n",
       "  </thead>\n",
       "  <tbody>\n",
       "    <tr>\n",
       "      <th>5</th>\n",
       "      <td>JOZUZE DIY-30</td>\n",
       "      <td>1274</td>\n",
       "      <td>4.7</td>\n",
       "      <td>1280x720</td>\n",
       "      <td>NaN</td>\n",
       "      <td>9</td>\n",
       "      <td>17</td>\n",
       "      <td>54</td>\n",
       "      <td>71</td>\n",
       "    </tr>\n",
       "    <tr>\n",
       "      <th>6</th>\n",
       "      <td>CUGUU DIY Mini Camera</td>\n",
       "      <td>835</td>\n",
       "      <td>4.1</td>\n",
       "      <td>1920x1080</td>\n",
       "      <td>NaN</td>\n",
       "      <td>9</td>\n",
       "      <td>18</td>\n",
       "      <td>54</td>\n",
       "      <td>72</td>\n",
       "    </tr>\n",
       "    <tr>\n",
       "      <th>7</th>\n",
       "      <td>YIKIXI IR-CUT Mini Camera</td>\n",
       "      <td>1323</td>\n",
       "      <td>4.3</td>\n",
       "      <td>1920x1080</td>\n",
       "      <td>NaN</td>\n",
       "      <td>7</td>\n",
       "      <td>28</td>\n",
       "      <td>30</td>\n",
       "      <td>58</td>\n",
       "    </tr>\n",
       "  </tbody>\n",
       "</table>\n",
       "</div>"
      ],
      "text/plain": [
       "                        name  price  user_rating resolution  battery_life  \\\n",
       "5              JOZUZE DIY-30   1274          4.7   1280x720           NaN   \n",
       "6      CUGUU DIY Mini Camera    835          4.1  1920x1080           NaN   \n",
       "7  YIKIXI IR-CUT Mini Camera   1323          4.3  1920x1080           NaN   \n",
       "\n",
       "   weight  length  width  sum_length_width  \n",
       "5       9      17     54                71  \n",
       "6       9      18     54                72  \n",
       "7       7      28     30                58  "
      ]
     },
     "execution_count": 84,
     "metadata": {},
     "output_type": "execute_result"
    }
   ],
   "source": [
    "data_camera_win_weight = data_camera_win_price.query('weight < 15')\n",
    "data_camera_win_weight"
   ]
  },
  {
   "cell_type": "markdown",
   "metadata": {},
   "source": [
    "<font size=\"4\"> Делаем срез видеокамер **меньше 15 по параметру 'weight'****</font>\n",
    "\n",
    "<font size=\"4\"> Вывод: лучшие видеокамеры по критерию **миниатюрность**</font>"
   ]
  },
  {
   "cell_type": "markdown",
   "metadata": {},
   "source": [
    "# Проверка гипотез\n",
    "<a name=\"stage_5\"></a>\n",
    " [обратно в оглавление](#contents)"
   ]
  },
  {
   "cell_type": "markdown",
   "metadata": {},
   "source": [
    "<font size=\"4\">**1 гипотеза:** средняя цена за устройство без подключения к телефону **не отличается** от устройства с подключением к телефону\n",
    "    \n",
    "    \n",
    "<font size=\"4\">**2 гипотеза:** средний размер видеонянь с подключением к телефону **не отличается** от видеокамер"
   ]
  },
  {
   "cell_type": "markdown",
   "metadata": {},
   "source": [
    "<font size=\"4\">**H0**(нулевая гипотеза):средняя цена за устройство без подключения к телефону **не отличается** от устройства с подключением к телефону</font>\n",
    "\n",
    "<font size=\"4\">**H1**(альтернативная гипотеза):средняя цена за устройство без подключения к телефону **отличается** от устройства с подключением к телефону</font>"
   ]
  },
  {
   "cell_type": "code",
   "execution_count": 85,
   "metadata": {},
   "outputs": [
    {
     "name": "stdout",
     "output_type": "stream",
     "text": [
      "p-значение: 0.7279300475376385\n",
      "Не получилось отвергнуть нулевую гипотезу\n"
     ]
    }
   ],
   "source": [
    "phone_0_price = data[data['phone_connection']==0]['price']\n",
    "phone_1_price = data[data['phone_connection']==1]['price']\n",
    "#phone_0_median_value = phone_0_median.sum()\n",
    "#phone_1_median_value = phone_1_median.sum()\n",
    "#проверяем первую гипотезу\n",
    "\n",
    "alpha = .05\n",
    "\n",
    "results = st.ttest_ind(phone_0_price, phone_1_price, equal_var=False)\n",
    "\n",
    "print('p-значение:', results.pvalue)\n",
    "\n",
    "\n",
    "if (results.pvalue < alpha):\n",
    "    print(\"Отвергаем нулевую гипотезу\")\n",
    "else:\n",
    "    print(\"Не получилось отвергнуть нулевую гипотезу\")"
   ]
  },
  {
   "cell_type": "markdown",
   "metadata": {},
   "source": [
    "<font size=\"4\">Нам не удалось отвергнуть нулевую гипотезу. Это означает, что **1 гипотеза верна**. Действительно, до этого мы выяснили, что медианные значения цен примерно похожи.</font>"
   ]
  },
  {
   "cell_type": "markdown",
   "metadata": {},
   "source": [
    "<font size=\"4\">**H0**:средний размер видеонянь с подключением к телефону **не отличается** от видеокамер</font>\n",
    "\n",
    "<font size=\"4\">**H1**:средний размер видеонянь с подключением к телефону **отличается** от видеокамер</font>"
   ]
  },
  {
   "cell_type": "code",
   "execution_count": 86,
   "metadata": {},
   "outputs": [
    {
     "name": "stdout",
     "output_type": "stream",
     "text": [
      "p-значение: 1.1472552548126475e-05\n",
      "Отвергаем нулевую гипотезу\n"
     ]
    }
   ],
   "source": [
    "data_0_sum_child_length_width = data_0['sum_child_length_width']\n",
    "data_camera_sum_length_width = data_camera['sum_length_width']\n",
    "#phone_0_median_value = phone_0_median.sum()\n",
    "#phone_1_median_value = phone_1_median.sum()\n",
    "#проверяем первую гипотезу\n",
    "\n",
    "alpha = .05\n",
    "\n",
    "results = st.ttest_ind(data_0_sum_child_length_width, data_camera_sum_length_width, equal_var=False)\n",
    "\n",
    "print('p-значение:', results.pvalue)\n",
    "\n",
    "\n",
    "if (results.pvalue < alpha):\n",
    "    print(\"Отвергаем нулевую гипотезу\")\n",
    "else:\n",
    "    print(\"Не получилось отвергнуть нулевую гипотезу\")"
   ]
  },
  {
   "cell_type": "markdown",
   "metadata": {},
   "source": [
    "<font size=\"4\">Отвергаем нулевую гипотезу. Это означает, что **2 гипотеза не верна**, поэтому мы применяем альтернативную гипотезу: **средний размер видеонянь с подключением к телефону отличается от видеокамер**. </font>"
   ]
  },
  {
   "cell_type": "markdown",
   "metadata": {},
   "source": [
    "<a name=\"stage_6\"></a>\n",
    "# Общий вывод:\n",
    " [обратно в оглавление](#contents)"
   ]
  },
  {
   "cell_type": "markdown",
   "metadata": {},
   "source": [
    "<font size=\"4\">Мы провели исследовательский анализ рынка видеонянь: сделали репрезентативную выборку для анализа,сделали предобработку данных, выявили неоднозначные корреляции в данных, а также визуализировали наши данные. Используя библиотеку, разработанную Яндексом, мы проанализировали отрицательные отзывы пользователей и сформировали список самых популярных проблем потребителей.</font>\n",
    "\n",
    "<font size=\"4\">Также нашим заданием было определить лучшее устройство для заказчика по критерию 'Миниатюрность'. К этому критерию мы определили 2 технические характеристики: сумма высоты и ширины устройства, вес. Также мы не учитывали дорогие видеоняни относительно нашей выборке. Чтобы визуализировать наши выводы, мы построили дерево, по которому можно отобрать лучшие устройства по другим параметрам, уже соответствующие критерию миниатюрность. Тоже самое мы проделали для видеокамер.</font>"
   ]
  },
  {
   "cell_type": "code",
   "execution_count": 87,
   "metadata": {},
   "outputs": [
    {
     "data": {
      "image/jpeg": "[encoded data removed]",
      "text/plain": [
       "<IPython.core.display.Image object>"
      ]
     },
     "execution_count": 87,
     "metadata": {},
     "output_type": "execute_result"
    }
   ],
   "source": [
    "from IPython.display import Image\n",
    "Image(\"all.jpg\")"
   ]
  },
  {
   "cell_type": "code",
   "execution_count": 88,
   "metadata": {},
   "outputs": [
    {
     "data": {
      "image/jpeg": "[encoded data removed]",
      "text/plain": [
       "<IPython.core.display.Image object>"
      ]
     },
     "execution_count": 88,
     "metadata": {},
     "output_type": "execute_result"
    }
   ],
   "source": [
    "Image(\"all_video.jpg\")"
   ]
  },
  {
   "cell_type": "code",
   "execution_count": null,
   "metadata": {},
   "outputs": [],
   "source": []
  }
 ],
 "metadata": {
  "kernelspec": {
   "display_name": "Python 3",
   "language": "python",
   "name": "python3"
  },
  "language_info": {
   "codemirror_mode": {
    "name": "ipython",
    "version": 3
   },
   "file_extension": ".py",
   "mimetype": "text/x-python",
   "name": "python",
   "nbconvert_exporter": "python",
   "pygments_lexer": "ipython3",
   "version": "3.8.5"
  }
 },
 "nbformat": 4,
 "nbformat_minor": 4
}
